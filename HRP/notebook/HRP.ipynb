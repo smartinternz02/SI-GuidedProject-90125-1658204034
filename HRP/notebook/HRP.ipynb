{
 "cells": [
  {
   "cell_type": "markdown",
   "id": "058422e9",
   "metadata": {},
   "source": [
    "# DATA PRE-PROCESSING"
   ]
  },
  {
   "cell_type": "code",
   "execution_count": 1,
   "id": "8b204b15",
   "metadata": {},
   "outputs": [],
   "source": [
    "import pandas as pd\n",
    "import numpy as np\n",
    "import matplotlib.pyplot as plt\n",
    "import seaborn as sb"
   ]
  },
  {
   "cell_type": "code",
   "execution_count": 2,
   "id": "859f3d68",
   "metadata": {},
   "outputs": [],
   "source": [
    "data= pd.read_csv('F:\\GEC\\dataset_diabetes\\dataset_diabetes\\diabetic_data.csv')"
   ]
  },
  {
   "cell_type": "code",
   "execution_count": 3,
   "id": "ec08001e",
   "metadata": {},
   "outputs": [
    {
     "data": {
      "text/plain": [
       "(101766, 50)"
      ]
     },
     "execution_count": 3,
     "metadata": {},
     "output_type": "execute_result"
    }
   ],
   "source": [
    "data.shape"
   ]
  },
  {
   "cell_type": "code",
   "execution_count": 4,
   "id": "4e22c23d",
   "metadata": {},
   "outputs": [
    {
     "data": {
      "text/html": [
       "<div>\n",
       "<style scoped>\n",
       "    .dataframe tbody tr th:only-of-type {\n",
       "        vertical-align: middle;\n",
       "    }\n",
       "\n",
       "    .dataframe tbody tr th {\n",
       "        vertical-align: top;\n",
       "    }\n",
       "\n",
       "    .dataframe thead th {\n",
       "        text-align: right;\n",
       "    }\n",
       "</style>\n",
       "<table border=\"1\" class=\"dataframe\">\n",
       "  <thead>\n",
       "    <tr style=\"text-align: right;\">\n",
       "      <th></th>\n",
       "      <th>encounter_id</th>\n",
       "      <th>patient_nbr</th>\n",
       "      <th>race</th>\n",
       "      <th>gender</th>\n",
       "      <th>age</th>\n",
       "      <th>weight</th>\n",
       "      <th>admission_type_id</th>\n",
       "      <th>discharge_disposition_id</th>\n",
       "      <th>admission_source_id</th>\n",
       "      <th>time_in_hospital</th>\n",
       "      <th>...</th>\n",
       "      <th>citoglipton</th>\n",
       "      <th>insulin</th>\n",
       "      <th>glyburide-metformin</th>\n",
       "      <th>glipizide-metformin</th>\n",
       "      <th>glimepiride-pioglitazone</th>\n",
       "      <th>metformin-rosiglitazone</th>\n",
       "      <th>metformin-pioglitazone</th>\n",
       "      <th>change</th>\n",
       "      <th>diabetesMed</th>\n",
       "      <th>readmitted</th>\n",
       "    </tr>\n",
       "  </thead>\n",
       "  <tbody>\n",
       "    <tr>\n",
       "      <th>101761</th>\n",
       "      <td>443847548</td>\n",
       "      <td>100162476</td>\n",
       "      <td>AfricanAmerican</td>\n",
       "      <td>Male</td>\n",
       "      <td>[70-80)</td>\n",
       "      <td>?</td>\n",
       "      <td>1</td>\n",
       "      <td>3</td>\n",
       "      <td>7</td>\n",
       "      <td>3</td>\n",
       "      <td>...</td>\n",
       "      <td>No</td>\n",
       "      <td>Down</td>\n",
       "      <td>No</td>\n",
       "      <td>No</td>\n",
       "      <td>No</td>\n",
       "      <td>No</td>\n",
       "      <td>No</td>\n",
       "      <td>Ch</td>\n",
       "      <td>Yes</td>\n",
       "      <td>&gt;30</td>\n",
       "    </tr>\n",
       "    <tr>\n",
       "      <th>101762</th>\n",
       "      <td>443847782</td>\n",
       "      <td>74694222</td>\n",
       "      <td>AfricanAmerican</td>\n",
       "      <td>Female</td>\n",
       "      <td>[80-90)</td>\n",
       "      <td>?</td>\n",
       "      <td>1</td>\n",
       "      <td>4</td>\n",
       "      <td>5</td>\n",
       "      <td>5</td>\n",
       "      <td>...</td>\n",
       "      <td>No</td>\n",
       "      <td>Steady</td>\n",
       "      <td>No</td>\n",
       "      <td>No</td>\n",
       "      <td>No</td>\n",
       "      <td>No</td>\n",
       "      <td>No</td>\n",
       "      <td>No</td>\n",
       "      <td>Yes</td>\n",
       "      <td>NO</td>\n",
       "    </tr>\n",
       "    <tr>\n",
       "      <th>101763</th>\n",
       "      <td>443854148</td>\n",
       "      <td>41088789</td>\n",
       "      <td>Caucasian</td>\n",
       "      <td>Male</td>\n",
       "      <td>[70-80)</td>\n",
       "      <td>?</td>\n",
       "      <td>1</td>\n",
       "      <td>1</td>\n",
       "      <td>7</td>\n",
       "      <td>1</td>\n",
       "      <td>...</td>\n",
       "      <td>No</td>\n",
       "      <td>Down</td>\n",
       "      <td>No</td>\n",
       "      <td>No</td>\n",
       "      <td>No</td>\n",
       "      <td>No</td>\n",
       "      <td>No</td>\n",
       "      <td>Ch</td>\n",
       "      <td>Yes</td>\n",
       "      <td>NO</td>\n",
       "    </tr>\n",
       "    <tr>\n",
       "      <th>101764</th>\n",
       "      <td>443857166</td>\n",
       "      <td>31693671</td>\n",
       "      <td>Caucasian</td>\n",
       "      <td>Female</td>\n",
       "      <td>[80-90)</td>\n",
       "      <td>?</td>\n",
       "      <td>2</td>\n",
       "      <td>3</td>\n",
       "      <td>7</td>\n",
       "      <td>10</td>\n",
       "      <td>...</td>\n",
       "      <td>No</td>\n",
       "      <td>Up</td>\n",
       "      <td>No</td>\n",
       "      <td>No</td>\n",
       "      <td>No</td>\n",
       "      <td>No</td>\n",
       "      <td>No</td>\n",
       "      <td>Ch</td>\n",
       "      <td>Yes</td>\n",
       "      <td>NO</td>\n",
       "    </tr>\n",
       "    <tr>\n",
       "      <th>101765</th>\n",
       "      <td>443867222</td>\n",
       "      <td>175429310</td>\n",
       "      <td>Caucasian</td>\n",
       "      <td>Male</td>\n",
       "      <td>[70-80)</td>\n",
       "      <td>?</td>\n",
       "      <td>1</td>\n",
       "      <td>1</td>\n",
       "      <td>7</td>\n",
       "      <td>6</td>\n",
       "      <td>...</td>\n",
       "      <td>No</td>\n",
       "      <td>No</td>\n",
       "      <td>No</td>\n",
       "      <td>No</td>\n",
       "      <td>No</td>\n",
       "      <td>No</td>\n",
       "      <td>No</td>\n",
       "      <td>No</td>\n",
       "      <td>No</td>\n",
       "      <td>NO</td>\n",
       "    </tr>\n",
       "  </tbody>\n",
       "</table>\n",
       "<p>5 rows × 50 columns</p>\n",
       "</div>"
      ],
      "text/plain": [
       "        encounter_id  patient_nbr             race  gender      age weight  \\\n",
       "101761     443847548    100162476  AfricanAmerican    Male  [70-80)      ?   \n",
       "101762     443847782     74694222  AfricanAmerican  Female  [80-90)      ?   \n",
       "101763     443854148     41088789        Caucasian    Male  [70-80)      ?   \n",
       "101764     443857166     31693671        Caucasian  Female  [80-90)      ?   \n",
       "101765     443867222    175429310        Caucasian    Male  [70-80)      ?   \n",
       "\n",
       "        admission_type_id  discharge_disposition_id  admission_source_id  \\\n",
       "101761                  1                         3                    7   \n",
       "101762                  1                         4                    5   \n",
       "101763                  1                         1                    7   \n",
       "101764                  2                         3                    7   \n",
       "101765                  1                         1                    7   \n",
       "\n",
       "        time_in_hospital  ... citoglipton insulin  glyburide-metformin  \\\n",
       "101761                 3  ...          No    Down                   No   \n",
       "101762                 5  ...          No  Steady                   No   \n",
       "101763                 1  ...          No    Down                   No   \n",
       "101764                10  ...          No      Up                   No   \n",
       "101765                 6  ...          No      No                   No   \n",
       "\n",
       "        glipizide-metformin  glimepiride-pioglitazone  \\\n",
       "101761                   No                        No   \n",
       "101762                   No                        No   \n",
       "101763                   No                        No   \n",
       "101764                   No                        No   \n",
       "101765                   No                        No   \n",
       "\n",
       "        metformin-rosiglitazone  metformin-pioglitazone  change diabetesMed  \\\n",
       "101761                       No                      No      Ch         Yes   \n",
       "101762                       No                      No      No         Yes   \n",
       "101763                       No                      No      Ch         Yes   \n",
       "101764                       No                      No      Ch         Yes   \n",
       "101765                       No                      No      No          No   \n",
       "\n",
       "       readmitted  \n",
       "101761        >30  \n",
       "101762         NO  \n",
       "101763         NO  \n",
       "101764         NO  \n",
       "101765         NO  \n",
       "\n",
       "[5 rows x 50 columns]"
      ]
     },
     "execution_count": 4,
     "metadata": {},
     "output_type": "execute_result"
    }
   ],
   "source": [
    "data.tail()"
   ]
  },
  {
   "cell_type": "code",
   "execution_count": 5,
   "id": "7d902e8f",
   "metadata": {},
   "outputs": [
    {
     "name": "stdout",
     "output_type": "stream",
     "text": [
      "<class 'pandas.core.frame.DataFrame'>\n",
      "RangeIndex: 101766 entries, 0 to 101765\n",
      "Data columns (total 50 columns):\n",
      " #   Column                    Non-Null Count   Dtype \n",
      "---  ------                    --------------   ----- \n",
      " 0   encounter_id              101766 non-null  int64 \n",
      " 1   patient_nbr               101766 non-null  int64 \n",
      " 2   race                      101766 non-null  object\n",
      " 3   gender                    101766 non-null  object\n",
      " 4   age                       101766 non-null  object\n",
      " 5   weight                    101766 non-null  object\n",
      " 6   admission_type_id         101766 non-null  int64 \n",
      " 7   discharge_disposition_id  101766 non-null  int64 \n",
      " 8   admission_source_id       101766 non-null  int64 \n",
      " 9   time_in_hospital          101766 non-null  int64 \n",
      " 10  payer_code                101766 non-null  object\n",
      " 11  medical_specialty         101766 non-null  object\n",
      " 12  num_lab_procedures        101766 non-null  int64 \n",
      " 13  num_procedures            101766 non-null  int64 \n",
      " 14  num_medications           101766 non-null  int64 \n",
      " 15  number_outpatient         101766 non-null  int64 \n",
      " 16  number_emergency          101766 non-null  int64 \n",
      " 17  number_inpatient          101766 non-null  int64 \n",
      " 18  diag_1                    101766 non-null  object\n",
      " 19  diag_2                    101766 non-null  object\n",
      " 20  diag_3                    101766 non-null  object\n",
      " 21  number_diagnoses          101766 non-null  int64 \n",
      " 22  max_glu_serum             101766 non-null  object\n",
      " 23  A1Cresult                 101766 non-null  object\n",
      " 24  metformin                 101766 non-null  object\n",
      " 25  repaglinide               101766 non-null  object\n",
      " 26  nateglinide               101766 non-null  object\n",
      " 27  chlorpropamide            101766 non-null  object\n",
      " 28  glimepiride               101766 non-null  object\n",
      " 29  acetohexamide             101766 non-null  object\n",
      " 30  glipizide                 101766 non-null  object\n",
      " 31  glyburide                 101766 non-null  object\n",
      " 32  tolbutamide               101766 non-null  object\n",
      " 33  pioglitazone              101766 non-null  object\n",
      " 34  rosiglitazone             101766 non-null  object\n",
      " 35  acarbose                  101766 non-null  object\n",
      " 36  miglitol                  101766 non-null  object\n",
      " 37  troglitazone              101766 non-null  object\n",
      " 38  tolazamide                101766 non-null  object\n",
      " 39  examide                   101766 non-null  object\n",
      " 40  citoglipton               101766 non-null  object\n",
      " 41  insulin                   101766 non-null  object\n",
      " 42  glyburide-metformin       101766 non-null  object\n",
      " 43  glipizide-metformin       101766 non-null  object\n",
      " 44  glimepiride-pioglitazone  101766 non-null  object\n",
      " 45  metformin-rosiglitazone   101766 non-null  object\n",
      " 46  metformin-pioglitazone    101766 non-null  object\n",
      " 47  change                    101766 non-null  object\n",
      " 48  diabetesMed               101766 non-null  object\n",
      " 49  readmitted                101766 non-null  object\n",
      "dtypes: int64(13), object(37)\n",
      "memory usage: 38.8+ MB\n"
     ]
    }
   ],
   "source": [
    "data.info()"
   ]
  },
  {
   "cell_type": "code",
   "execution_count": 6,
   "id": "2f177f73",
   "metadata": {},
   "outputs": [
    {
     "data": {
      "text/plain": [
       "encounter_id                101766\n",
       "patient_nbr                  71518\n",
       "race                             6\n",
       "gender                           3\n",
       "age                             10\n",
       "weight                          10\n",
       "admission_type_id                8\n",
       "discharge_disposition_id        26\n",
       "admission_source_id             17\n",
       "time_in_hospital                14\n",
       "payer_code                      18\n",
       "medical_specialty               73\n",
       "num_lab_procedures             118\n",
       "num_procedures                   7\n",
       "num_medications                 75\n",
       "number_outpatient               39\n",
       "number_emergency                33\n",
       "number_inpatient                21\n",
       "diag_1                         717\n",
       "diag_2                         749\n",
       "diag_3                         790\n",
       "number_diagnoses                16\n",
       "max_glu_serum                    4\n",
       "A1Cresult                        4\n",
       "metformin                        4\n",
       "repaglinide                      4\n",
       "nateglinide                      4\n",
       "chlorpropamide                   4\n",
       "glimepiride                      4\n",
       "acetohexamide                    2\n",
       "glipizide                        4\n",
       "glyburide                        4\n",
       "tolbutamide                      2\n",
       "pioglitazone                     4\n",
       "rosiglitazone                    4\n",
       "acarbose                         4\n",
       "miglitol                         4\n",
       "troglitazone                     2\n",
       "tolazamide                       3\n",
       "examide                          1\n",
       "citoglipton                      1\n",
       "insulin                          4\n",
       "glyburide-metformin              4\n",
       "glipizide-metformin              2\n",
       "glimepiride-pioglitazone         2\n",
       "metformin-rosiglitazone          2\n",
       "metformin-pioglitazone           2\n",
       "change                           2\n",
       "diabetesMed                      2\n",
       "readmitted                       3\n",
       "dtype: int64"
      ]
     },
     "execution_count": 6,
     "metadata": {},
     "output_type": "execute_result"
    }
   ],
   "source": [
    "data.nunique()"
   ]
  },
  {
   "cell_type": "markdown",
   "id": "9118b84d",
   "metadata": {},
   "source": [
    "Handling Null Values And Removing Unnecessary Columns\n"
   ]
  },
  {
   "cell_type": "code",
   "execution_count": 7,
   "id": "bfb84036",
   "metadata": {},
   "outputs": [],
   "source": [
    "data.replace('?', np.NaN, inplace=True)"
   ]
  },
  {
   "cell_type": "code",
   "execution_count": 8,
   "id": "ed2a8ddf",
   "metadata": {},
   "outputs": [
    {
     "data": {
      "text/plain": [
       "encounter_id                    0\n",
       "patient_nbr                     0\n",
       "race                         2273\n",
       "gender                          0\n",
       "age                             0\n",
       "weight                      98569\n",
       "admission_type_id               0\n",
       "discharge_disposition_id        0\n",
       "admission_source_id             0\n",
       "time_in_hospital                0\n",
       "payer_code                  40256\n",
       "medical_specialty           49949\n",
       "num_lab_procedures              0\n",
       "num_procedures                  0\n",
       "num_medications                 0\n",
       "number_outpatient               0\n",
       "number_emergency                0\n",
       "number_inpatient                0\n",
       "diag_1                         21\n",
       "diag_2                        358\n",
       "diag_3                       1423\n",
       "number_diagnoses                0\n",
       "max_glu_serum                   0\n",
       "A1Cresult                       0\n",
       "metformin                       0\n",
       "repaglinide                     0\n",
       "nateglinide                     0\n",
       "chlorpropamide                  0\n",
       "glimepiride                     0\n",
       "acetohexamide                   0\n",
       "glipizide                       0\n",
       "glyburide                       0\n",
       "tolbutamide                     0\n",
       "pioglitazone                    0\n",
       "rosiglitazone                   0\n",
       "acarbose                        0\n",
       "miglitol                        0\n",
       "troglitazone                    0\n",
       "tolazamide                      0\n",
       "examide                         0\n",
       "citoglipton                     0\n",
       "insulin                         0\n",
       "glyburide-metformin             0\n",
       "glipizide-metformin             0\n",
       "glimepiride-pioglitazone        0\n",
       "metformin-rosiglitazone         0\n",
       "metformin-pioglitazone          0\n",
       "change                          0\n",
       "diabetesMed                     0\n",
       "readmitted                      0\n",
       "dtype: int64"
      ]
     },
     "execution_count": 8,
     "metadata": {},
     "output_type": "execute_result"
    }
   ],
   "source": [
    "data.isna().sum()"
   ]
  },
  {
   "cell_type": "markdown",
   "id": "f516d7f6",
   "metadata": {},
   "source": [
    "remove the rows which have gender= unknown/invalid"
   ]
  },
  {
   "cell_type": "code",
   "execution_count": 9,
   "id": "1c2b3fee",
   "metadata": {},
   "outputs": [
    {
     "data": {
      "text/plain": [
       "Female             54708\n",
       "Male               47055\n",
       "Unknown/Invalid        3\n",
       "Name: gender, dtype: int64"
      ]
     },
     "execution_count": 9,
     "metadata": {},
     "output_type": "execute_result"
    }
   ],
   "source": [
    "data['gender'].value_counts()"
   ]
  },
  {
   "cell_type": "code",
   "execution_count": 10,
   "id": "8286eb5e",
   "metadata": {},
   "outputs": [],
   "source": [
    "data = data[data['gender']!='Unknown/Invalid']"
   ]
  },
  {
   "cell_type": "code",
   "execution_count": 11,
   "id": "ddbbfc53",
   "metadata": {},
   "outputs": [],
   "source": [
    "cols_to_drop = ['weight', 'payer_code','medical_specialty','encounter_id','patient_nbr','examide','citoglipton']"
   ]
  },
  {
   "cell_type": "markdown",
   "id": "bfba0a08",
   "metadata": {},
   "source": [
    "We observe that 3 columns - weight, payer_code and medical_speciality contain a huge number of null values. \n",
    "So we need to drop these columns.\n",
    "we can remove encounter_id and patient_nbr as they have a large amount of unique values. \n",
    "We can also remove examide and citoglipton as they have only 1 unique value and hence do not provide any information."
   ]
  },
  {
   "cell_type": "code",
   "execution_count": 12,
   "id": "d810eced",
   "metadata": {},
   "outputs": [],
   "source": [
    "data = data.drop(cols_to_drop, axis=1)"
   ]
  },
  {
   "cell_type": "code",
   "execution_count": 13,
   "id": "bbb02f08",
   "metadata": {},
   "outputs": [
    {
     "data": {
      "text/plain": [
       "(101763, 43)"
      ]
     },
     "execution_count": 13,
     "metadata": {},
     "output_type": "execute_result"
    }
   ],
   "source": [
    "data.shape"
   ]
  },
  {
   "cell_type": "code",
   "execution_count": 14,
   "id": "d48bc4fd",
   "metadata": {},
   "outputs": [],
   "source": [
    "#removing the rows having null values\n",
    "data.dropna(how='any',axis=0,inplace=True)"
   ]
  },
  {
   "cell_type": "code",
   "execution_count": 15,
   "id": "e9468633",
   "metadata": {},
   "outputs": [
    {
     "data": {
      "text/plain": [
       "(98052, 43)"
      ]
     },
     "execution_count": 15,
     "metadata": {},
     "output_type": "execute_result"
    }
   ],
   "source": [
    "data.shape"
   ]
  },
  {
   "cell_type": "markdown",
   "id": "a23a89e7",
   "metadata": {},
   "source": [
    "Our dataset is now free from null values.  The data now has 98052 rows and 43 columns.  \n",
    "Before proceeding with visualisation, let us encode our target variable."
   ]
  },
  {
   "cell_type": "code",
   "execution_count": 16,
   "id": "87de5961",
   "metadata": {},
   "outputs": [
    {
     "data": {
      "text/html": [
       "<div>\n",
       "<style scoped>\n",
       "    .dataframe tbody tr th:only-of-type {\n",
       "        vertical-align: middle;\n",
       "    }\n",
       "\n",
       "    .dataframe tbody tr th {\n",
       "        vertical-align: top;\n",
       "    }\n",
       "\n",
       "    .dataframe thead th {\n",
       "        text-align: right;\n",
       "    }\n",
       "</style>\n",
       "<table border=\"1\" class=\"dataframe\">\n",
       "  <thead>\n",
       "    <tr style=\"text-align: right;\">\n",
       "      <th></th>\n",
       "      <th>race</th>\n",
       "      <th>gender</th>\n",
       "      <th>age</th>\n",
       "      <th>admission_type_id</th>\n",
       "      <th>discharge_disposition_id</th>\n",
       "      <th>admission_source_id</th>\n",
       "      <th>time_in_hospital</th>\n",
       "      <th>num_lab_procedures</th>\n",
       "      <th>num_procedures</th>\n",
       "      <th>num_medications</th>\n",
       "      <th>...</th>\n",
       "      <th>tolazamide</th>\n",
       "      <th>insulin</th>\n",
       "      <th>glyburide-metformin</th>\n",
       "      <th>glipizide-metformin</th>\n",
       "      <th>glimepiride-pioglitazone</th>\n",
       "      <th>metformin-rosiglitazone</th>\n",
       "      <th>metformin-pioglitazone</th>\n",
       "      <th>change</th>\n",
       "      <th>diabetesMed</th>\n",
       "      <th>readmitted</th>\n",
       "    </tr>\n",
       "  </thead>\n",
       "  <tbody>\n",
       "    <tr>\n",
       "      <th>0</th>\n",
       "      <td>Caucasian</td>\n",
       "      <td>Female</td>\n",
       "      <td>[10-20)</td>\n",
       "      <td>1</td>\n",
       "      <td>1</td>\n",
       "      <td>7</td>\n",
       "      <td>3</td>\n",
       "      <td>59</td>\n",
       "      <td>0</td>\n",
       "      <td>18</td>\n",
       "      <td>...</td>\n",
       "      <td>No</td>\n",
       "      <td>Up</td>\n",
       "      <td>No</td>\n",
       "      <td>No</td>\n",
       "      <td>No</td>\n",
       "      <td>No</td>\n",
       "      <td>No</td>\n",
       "      <td>Ch</td>\n",
       "      <td>Yes</td>\n",
       "      <td>&gt;30</td>\n",
       "    </tr>\n",
       "    <tr>\n",
       "      <th>1</th>\n",
       "      <td>AfricanAmerican</td>\n",
       "      <td>Female</td>\n",
       "      <td>[20-30)</td>\n",
       "      <td>1</td>\n",
       "      <td>1</td>\n",
       "      <td>7</td>\n",
       "      <td>2</td>\n",
       "      <td>11</td>\n",
       "      <td>5</td>\n",
       "      <td>13</td>\n",
       "      <td>...</td>\n",
       "      <td>No</td>\n",
       "      <td>No</td>\n",
       "      <td>No</td>\n",
       "      <td>No</td>\n",
       "      <td>No</td>\n",
       "      <td>No</td>\n",
       "      <td>No</td>\n",
       "      <td>No</td>\n",
       "      <td>Yes</td>\n",
       "      <td>NO</td>\n",
       "    </tr>\n",
       "    <tr>\n",
       "      <th>2</th>\n",
       "      <td>Caucasian</td>\n",
       "      <td>Male</td>\n",
       "      <td>[30-40)</td>\n",
       "      <td>1</td>\n",
       "      <td>1</td>\n",
       "      <td>7</td>\n",
       "      <td>2</td>\n",
       "      <td>44</td>\n",
       "      <td>1</td>\n",
       "      <td>16</td>\n",
       "      <td>...</td>\n",
       "      <td>No</td>\n",
       "      <td>Up</td>\n",
       "      <td>No</td>\n",
       "      <td>No</td>\n",
       "      <td>No</td>\n",
       "      <td>No</td>\n",
       "      <td>No</td>\n",
       "      <td>Ch</td>\n",
       "      <td>Yes</td>\n",
       "      <td>NO</td>\n",
       "    </tr>\n",
       "    <tr>\n",
       "      <th>3</th>\n",
       "      <td>Caucasian</td>\n",
       "      <td>Male</td>\n",
       "      <td>[40-50)</td>\n",
       "      <td>1</td>\n",
       "      <td>1</td>\n",
       "      <td>7</td>\n",
       "      <td>1</td>\n",
       "      <td>51</td>\n",
       "      <td>0</td>\n",
       "      <td>8</td>\n",
       "      <td>...</td>\n",
       "      <td>No</td>\n",
       "      <td>Steady</td>\n",
       "      <td>No</td>\n",
       "      <td>No</td>\n",
       "      <td>No</td>\n",
       "      <td>No</td>\n",
       "      <td>No</td>\n",
       "      <td>Ch</td>\n",
       "      <td>Yes</td>\n",
       "      <td>NO</td>\n",
       "    </tr>\n",
       "    <tr>\n",
       "      <th>4</th>\n",
       "      <td>Caucasian</td>\n",
       "      <td>Male</td>\n",
       "      <td>[50-60)</td>\n",
       "      <td>2</td>\n",
       "      <td>1</td>\n",
       "      <td>2</td>\n",
       "      <td>3</td>\n",
       "      <td>31</td>\n",
       "      <td>6</td>\n",
       "      <td>16</td>\n",
       "      <td>...</td>\n",
       "      <td>No</td>\n",
       "      <td>Steady</td>\n",
       "      <td>No</td>\n",
       "      <td>No</td>\n",
       "      <td>No</td>\n",
       "      <td>No</td>\n",
       "      <td>No</td>\n",
       "      <td>No</td>\n",
       "      <td>Yes</td>\n",
       "      <td>&gt;30</td>\n",
       "    </tr>\n",
       "    <tr>\n",
       "      <th>...</th>\n",
       "      <td>...</td>\n",
       "      <td>...</td>\n",
       "      <td>...</td>\n",
       "      <td>...</td>\n",
       "      <td>...</td>\n",
       "      <td>...</td>\n",
       "      <td>...</td>\n",
       "      <td>...</td>\n",
       "      <td>...</td>\n",
       "      <td>...</td>\n",
       "      <td>...</td>\n",
       "      <td>...</td>\n",
       "      <td>...</td>\n",
       "      <td>...</td>\n",
       "      <td>...</td>\n",
       "      <td>...</td>\n",
       "      <td>...</td>\n",
       "      <td>...</td>\n",
       "      <td>...</td>\n",
       "      <td>...</td>\n",
       "      <td>...</td>\n",
       "    </tr>\n",
       "    <tr>\n",
       "      <th>98047</th>\n",
       "      <td>AfricanAmerican</td>\n",
       "      <td>Male</td>\n",
       "      <td>[70-80)</td>\n",
       "      <td>1</td>\n",
       "      <td>3</td>\n",
       "      <td>7</td>\n",
       "      <td>3</td>\n",
       "      <td>51</td>\n",
       "      <td>0</td>\n",
       "      <td>16</td>\n",
       "      <td>...</td>\n",
       "      <td>No</td>\n",
       "      <td>Down</td>\n",
       "      <td>No</td>\n",
       "      <td>No</td>\n",
       "      <td>No</td>\n",
       "      <td>No</td>\n",
       "      <td>No</td>\n",
       "      <td>Ch</td>\n",
       "      <td>Yes</td>\n",
       "      <td>&gt;30</td>\n",
       "    </tr>\n",
       "    <tr>\n",
       "      <th>98048</th>\n",
       "      <td>AfricanAmerican</td>\n",
       "      <td>Female</td>\n",
       "      <td>[80-90)</td>\n",
       "      <td>1</td>\n",
       "      <td>4</td>\n",
       "      <td>5</td>\n",
       "      <td>5</td>\n",
       "      <td>33</td>\n",
       "      <td>3</td>\n",
       "      <td>18</td>\n",
       "      <td>...</td>\n",
       "      <td>No</td>\n",
       "      <td>Steady</td>\n",
       "      <td>No</td>\n",
       "      <td>No</td>\n",
       "      <td>No</td>\n",
       "      <td>No</td>\n",
       "      <td>No</td>\n",
       "      <td>No</td>\n",
       "      <td>Yes</td>\n",
       "      <td>NO</td>\n",
       "    </tr>\n",
       "    <tr>\n",
       "      <th>98049</th>\n",
       "      <td>Caucasian</td>\n",
       "      <td>Male</td>\n",
       "      <td>[70-80)</td>\n",
       "      <td>1</td>\n",
       "      <td>1</td>\n",
       "      <td>7</td>\n",
       "      <td>1</td>\n",
       "      <td>53</td>\n",
       "      <td>0</td>\n",
       "      <td>9</td>\n",
       "      <td>...</td>\n",
       "      <td>No</td>\n",
       "      <td>Down</td>\n",
       "      <td>No</td>\n",
       "      <td>No</td>\n",
       "      <td>No</td>\n",
       "      <td>No</td>\n",
       "      <td>No</td>\n",
       "      <td>Ch</td>\n",
       "      <td>Yes</td>\n",
       "      <td>NO</td>\n",
       "    </tr>\n",
       "    <tr>\n",
       "      <th>98050</th>\n",
       "      <td>Caucasian</td>\n",
       "      <td>Female</td>\n",
       "      <td>[80-90)</td>\n",
       "      <td>2</td>\n",
       "      <td>3</td>\n",
       "      <td>7</td>\n",
       "      <td>10</td>\n",
       "      <td>45</td>\n",
       "      <td>2</td>\n",
       "      <td>21</td>\n",
       "      <td>...</td>\n",
       "      <td>No</td>\n",
       "      <td>Up</td>\n",
       "      <td>No</td>\n",
       "      <td>No</td>\n",
       "      <td>No</td>\n",
       "      <td>No</td>\n",
       "      <td>No</td>\n",
       "      <td>Ch</td>\n",
       "      <td>Yes</td>\n",
       "      <td>NO</td>\n",
       "    </tr>\n",
       "    <tr>\n",
       "      <th>98051</th>\n",
       "      <td>Caucasian</td>\n",
       "      <td>Male</td>\n",
       "      <td>[70-80)</td>\n",
       "      <td>1</td>\n",
       "      <td>1</td>\n",
       "      <td>7</td>\n",
       "      <td>6</td>\n",
       "      <td>13</td>\n",
       "      <td>3</td>\n",
       "      <td>3</td>\n",
       "      <td>...</td>\n",
       "      <td>No</td>\n",
       "      <td>No</td>\n",
       "      <td>No</td>\n",
       "      <td>No</td>\n",
       "      <td>No</td>\n",
       "      <td>No</td>\n",
       "      <td>No</td>\n",
       "      <td>No</td>\n",
       "      <td>No</td>\n",
       "      <td>NO</td>\n",
       "    </tr>\n",
       "  </tbody>\n",
       "</table>\n",
       "<p>98052 rows × 43 columns</p>\n",
       "</div>"
      ],
      "text/plain": [
       "                  race  gender      age  admission_type_id  \\\n",
       "0            Caucasian  Female  [10-20)                  1   \n",
       "1      AfricanAmerican  Female  [20-30)                  1   \n",
       "2            Caucasian    Male  [30-40)                  1   \n",
       "3            Caucasian    Male  [40-50)                  1   \n",
       "4            Caucasian    Male  [50-60)                  2   \n",
       "...                ...     ...      ...                ...   \n",
       "98047  AfricanAmerican    Male  [70-80)                  1   \n",
       "98048  AfricanAmerican  Female  [80-90)                  1   \n",
       "98049        Caucasian    Male  [70-80)                  1   \n",
       "98050        Caucasian  Female  [80-90)                  2   \n",
       "98051        Caucasian    Male  [70-80)                  1   \n",
       "\n",
       "       discharge_disposition_id  admission_source_id  time_in_hospital  \\\n",
       "0                             1                    7                 3   \n",
       "1                             1                    7                 2   \n",
       "2                             1                    7                 2   \n",
       "3                             1                    7                 1   \n",
       "4                             1                    2                 3   \n",
       "...                         ...                  ...               ...   \n",
       "98047                         3                    7                 3   \n",
       "98048                         4                    5                 5   \n",
       "98049                         1                    7                 1   \n",
       "98050                         3                    7                10   \n",
       "98051                         1                    7                 6   \n",
       "\n",
       "       num_lab_procedures  num_procedures  num_medications  ...  tolazamide  \\\n",
       "0                      59               0               18  ...          No   \n",
       "1                      11               5               13  ...          No   \n",
       "2                      44               1               16  ...          No   \n",
       "3                      51               0                8  ...          No   \n",
       "4                      31               6               16  ...          No   \n",
       "...                   ...             ...              ...  ...         ...   \n",
       "98047                  51               0               16  ...          No   \n",
       "98048                  33               3               18  ...          No   \n",
       "98049                  53               0                9  ...          No   \n",
       "98050                  45               2               21  ...          No   \n",
       "98051                  13               3                3  ...          No   \n",
       "\n",
       "       insulin  glyburide-metformin glipizide-metformin  \\\n",
       "0           Up                   No                  No   \n",
       "1           No                   No                  No   \n",
       "2           Up                   No                  No   \n",
       "3       Steady                   No                  No   \n",
       "4       Steady                   No                  No   \n",
       "...        ...                  ...                 ...   \n",
       "98047     Down                   No                  No   \n",
       "98048   Steady                   No                  No   \n",
       "98049     Down                   No                  No   \n",
       "98050       Up                   No                  No   \n",
       "98051       No                   No                  No   \n",
       "\n",
       "      glimepiride-pioglitazone metformin-rosiglitazone  \\\n",
       "0                           No                      No   \n",
       "1                           No                      No   \n",
       "2                           No                      No   \n",
       "3                           No                      No   \n",
       "4                           No                      No   \n",
       "...                        ...                     ...   \n",
       "98047                       No                      No   \n",
       "98048                       No                      No   \n",
       "98049                       No                      No   \n",
       "98050                       No                      No   \n",
       "98051                       No                      No   \n",
       "\n",
       "       metformin-pioglitazone change diabetesMed readmitted  \n",
       "0                          No     Ch         Yes        >30  \n",
       "1                          No     No         Yes         NO  \n",
       "2                          No     Ch         Yes         NO  \n",
       "3                          No     Ch         Yes         NO  \n",
       "4                          No     No         Yes        >30  \n",
       "...                       ...    ...         ...        ...  \n",
       "98047                      No     Ch         Yes        >30  \n",
       "98048                      No     No         Yes         NO  \n",
       "98049                      No     Ch         Yes         NO  \n",
       "98050                      No     Ch         Yes         NO  \n",
       "98051                      No     No          No         NO  \n",
       "\n",
       "[98052 rows x 43 columns]"
      ]
     },
     "execution_count": 16,
     "metadata": {},
     "output_type": "execute_result"
    }
   ],
   "source": [
    "data.reset_index(drop=True)"
   ]
  },
  {
   "cell_type": "code",
   "execution_count": 17,
   "id": "4b59e074",
   "metadata": {},
   "outputs": [
    {
     "data": {
      "text/plain": [
       "race                        0\n",
       "gender                      0\n",
       "age                         0\n",
       "admission_type_id           0\n",
       "discharge_disposition_id    0\n",
       "admission_source_id         0\n",
       "time_in_hospital            0\n",
       "num_lab_procedures          0\n",
       "num_procedures              0\n",
       "num_medications             0\n",
       "number_outpatient           0\n",
       "number_emergency            0\n",
       "number_inpatient            0\n",
       "diag_1                      0\n",
       "diag_2                      0\n",
       "diag_3                      0\n",
       "number_diagnoses            0\n",
       "max_glu_serum               0\n",
       "A1Cresult                   0\n",
       "metformin                   0\n",
       "repaglinide                 0\n",
       "nateglinide                 0\n",
       "chlorpropamide              0\n",
       "glimepiride                 0\n",
       "acetohexamide               0\n",
       "glipizide                   0\n",
       "glyburide                   0\n",
       "tolbutamide                 0\n",
       "pioglitazone                0\n",
       "rosiglitazone               0\n",
       "acarbose                    0\n",
       "miglitol                    0\n",
       "troglitazone                0\n",
       "tolazamide                  0\n",
       "insulin                     0\n",
       "glyburide-metformin         0\n",
       "glipizide-metformin         0\n",
       "glimepiride-pioglitazone    0\n",
       "metformin-rosiglitazone     0\n",
       "metformin-pioglitazone      0\n",
       "change                      0\n",
       "diabetesMed                 0\n",
       "readmitted                  0\n",
       "dtype: int64"
      ]
     },
     "execution_count": 17,
     "metadata": {},
     "output_type": "execute_result"
    }
   ],
   "source": [
    "data.isna().sum()"
   ]
  },
  {
   "cell_type": "code",
   "execution_count": 18,
   "id": "a5a1bf7d",
   "metadata": {},
   "outputs": [],
   "source": [
    "data['readmitted'] = data['readmitted'].replace('>30', 0)\n",
    "data['readmitted'] = data['readmitted'].replace('<30', 1)\n",
    "data['readmitted'] = data['readmitted'].replace('NO', 0)"
   ]
  },
  {
   "cell_type": "code",
   "execution_count": 19,
   "id": "85594dd6",
   "metadata": {},
   "outputs": [
    {
     "data": {
      "text/plain": [
       "Yes    75350\n",
       "No     22702\n",
       "Name: diabetesMed, dtype: int64"
      ]
     },
     "execution_count": 19,
     "metadata": {},
     "output_type": "execute_result"
    }
   ],
   "source": [
    "data['diabetesMed'].value_counts()"
   ]
  },
  {
   "cell_type": "markdown",
   "id": "4c540f6d",
   "metadata": {},
   "source": [
    "# Data Analysis And Visualization"
   ]
  },
  {
   "cell_type": "markdown",
   "id": "0fb2cc06",
   "metadata": {},
   "source": [
    "UNI VARIATE ANALYSIS"
   ]
  },
  {
   "cell_type": "code",
   "execution_count": 20,
   "id": "6bd0a57a",
   "metadata": {},
   "outputs": [
    {
     "data": {
      "text/plain": [
       "<AxesSubplot:>"
      ]
     },
     "execution_count": 20,
     "metadata": {},
     "output_type": "execute_result"
    },
    {
     "data": {
      "image/png": "[encoded data removed]",
      "text/plain": [
       "<Figure size 432x288 with 1 Axes>"
      ]
     },
     "metadata": {
      "needs_background": "light"
     },
     "output_type": "display_data"
    }
   ],
   "source": [
    "data['readmitted'].value_counts().plot(kind='bar')"
   ]
  },
  {
   "cell_type": "markdown",
   "id": "f72fda68",
   "metadata": {},
   "source": [
    "BI VARIATE ANALYSIS"
   ]
  },
  {
   "cell_type": "code",
   "execution_count": 21,
   "id": "74d2fa67",
   "metadata": {},
   "outputs": [
    {
     "data": {
      "text/plain": [
       "Text(0.5, 1.0, 'Number of medication used VS. Readmission')"
      ]
     },
     "execution_count": 21,
     "metadata": {},
     "output_type": "execute_result"
    },
    {
     "data": {
      "image/png": "[encoded data removed]",
      "text/plain": [
       "<Figure size 576x576 with 1 Axes>"
      ]
     },
     "metadata": {
      "needs_background": "light"
     },
     "output_type": "display_data"
    }
   ],
   "source": [
    "fig = plt.figure(figsize=(8,8))\n",
    "sb.barplot(x = data['readmitted'], y = data['num_medications']).set_title(\"Number of medication used VS. Readmission\")"
   ]
  },
  {
   "cell_type": "code",
   "execution_count": 22,
   "id": "4711fee8",
   "metadata": {},
   "outputs": [
    {
     "data": {
      "text/plain": [
       "Text(0.5, 1.0, 'Age of Patient VS. Readmission')"
      ]
     },
     "execution_count": 22,
     "metadata": {},
     "output_type": "execute_result"
    },
    {
     "data": {
      "image/png": "[encoded data removed]",
      "text/plain": [
       "<Figure size 1080x720 with 1 Axes>"
      ]
     },
     "metadata": {
      "needs_background": "light"
     },
     "output_type": "display_data"
    }
   ],
   "source": [
    "fig = plt.figure(figsize=(15,10))\n",
    "sb.countplot(y= data['age'], hue = data['readmitted']).set_title('Age of Patient VS. Readmission')"
   ]
  },
  {
   "cell_type": "code",
   "execution_count": 23,
   "id": "48d60426",
   "metadata": {},
   "outputs": [
    {
     "data": {
      "text/plain": [
       "Text(0.5, 1.0, 'Gender of Patient VS. Readmission')"
      ]
     },
     "execution_count": 23,
     "metadata": {},
     "output_type": "execute_result"
    },
    {
     "data": {
      "image/png": "[encoded data removed]",
      "text/plain": [
       "<Figure size 576x576 with 1 Axes>"
      ]
     },
     "metadata": {
      "needs_background": "light"
     },
     "output_type": "display_data"
    }
   ],
   "source": [
    "fig = plt.figure(figsize=(8,8))\n",
    "sb.countplot(x=data['gender'], hue = data['readmitted']).set_title(\"Gender of Patient VS. Readmission\")"
   ]
  },
  {
   "cell_type": "code",
   "execution_count": 24,
   "id": "92e6f41f",
   "metadata": {},
   "outputs": [
    {
     "data": {
      "text/plain": [
       "Text(0.5, 1.0, 'Change of Medication VS. Readmission')"
      ]
     },
     "execution_count": 24,
     "metadata": {},
     "output_type": "execute_result"
    },
    {
     "data": {
      "image/png": "[encoded data removed]",
      "text/plain": [
       "<Figure size 576x576 with 1 Axes>"
      ]
     },
     "metadata": {
      "needs_background": "light"
     },
     "output_type": "display_data"
    }
   ],
   "source": [
    "fig = plt.figure(figsize=(8,8))\n",
    "sb.countplot(x=data['change'], hue = data['readmitted']).set_title('Change of Medication VS. Readmission')"
   ]
  },
  {
   "cell_type": "code",
   "execution_count": 25,
   "id": "4f778e84",
   "metadata": {},
   "outputs": [
    {
     "data": {
      "text/plain": [
       "Text(0.5, 1.0, 'Diabetes Medication prescribed VS Readmission')"
      ]
     },
     "execution_count": 25,
     "metadata": {},
     "output_type": "execute_result"
    },
    {
     "data": {
      "image/png": "[encoded data removed]",
      "text/plain": [
       "<Figure size 576x576 with 1 Axes>"
      ]
     },
     "metadata": {
      "needs_background": "light"
     },
     "output_type": "display_data"
    }
   ],
   "source": [
    "fig = plt.figure(figsize=(8,8))\n",
    "sb.countplot(x=data['diabetesMed'], hue = data['readmitted']).set_title('Diabetes Medication prescribed VS Readmission')"
   ]
  },
  {
   "cell_type": "code",
   "execution_count": 26,
   "id": "496a6be4",
   "metadata": {},
   "outputs": [
    {
     "data": {
      "text/plain": [
       "Text(0.5, 1.0, 'Glucose serum test result VS. Readmission')"
      ]
     },
     "execution_count": 26,
     "metadata": {},
     "output_type": "execute_result"
    },
    {
     "data": {
      "image/png": "[encoded data removed]",
      "text/plain": [
       "<Figure size 576x576 with 1 Axes>"
      ]
     },
     "metadata": {
      "needs_background": "light"
     },
     "output_type": "display_data"
    }
   ],
   "source": [
    "fig = plt.figure(figsize=(8,8))\n",
    "sb.countplot(y = data['max_glu_serum'], hue = data['readmitted']).set_title('Glucose serum test result VS. Readmission')"
   ]
  },
  {
   "cell_type": "code",
   "execution_count": 27,
   "id": "39eeaec1",
   "metadata": {},
   "outputs": [
    {
     "data": {
      "text/plain": [
       "Text(0.5, 1.0, 'Number of lab procedure VS. Readmission')"
      ]
     },
     "execution_count": 27,
     "metadata": {},
     "output_type": "execute_result"
    },
    {
     "data": {
      "image/png": "[encoded data removed]",
      "text/plain": [
       "<Figure size 1080x432 with 1 Axes>"
      ]
     },
     "metadata": {
      "needs_background": "light"
     },
     "output_type": "display_data"
    }
   ],
   "source": [
    "fig = plt.figure(figsize=(15,6),)\n",
    "ax=sb.kdeplot(data.loc[(data['readmitted'] == 0),'num_lab_procedures'] , color='b',shade=True,label='Not readmitted')\n",
    "ax=sb.kdeplot(data.loc[(data['readmitted'] == 1),'num_lab_procedures'] , color='r',shade=True, label='readmitted')\n",
    "ax.set(xlabel='Number of lab procedure', ylabel='Frequency')\n",
    "plt.title('Number of lab procedure VS. Readmission')"
   ]
  },
  {
   "cell_type": "code",
   "execution_count": 28,
   "id": "46656b7b",
   "metadata": {},
   "outputs": [
    {
     "data": {
      "text/plain": [
       "Text(0.5, 1.0, 'Time in Hospital VS. Readmission')"
      ]
     },
     "execution_count": 28,
     "metadata": {},
     "output_type": "execute_result"
    },
    {
     "data": {
      "image/png": "[encoded data removed]",
      "text/plain": [
       "<Figure size 936x504 with 1 Axes>"
      ]
     },
     "metadata": {
      "needs_background": "light"
     },
     "output_type": "display_data"
    }
   ],
   "source": [
    "fig = plt.figure(figsize=(13,7),)\n",
    "ax=sb.kdeplot(data.loc[(data['readmitted'] == 0),'time_in_hospital'] , color='b',shade=True,label='Not Readmitted')\n",
    "ax=sb.kdeplot(data.loc[(data['readmitted'] == 1),'time_in_hospital'] , color='r',shade=True, label='Readmitted')\n",
    "ax.set(xlabel='Time in Hospital', ylabel='Frequency')\n",
    "plt.title('Time in Hospital VS. Readmission')"
   ]
  },
  {
   "cell_type": "markdown",
   "id": "d4564399",
   "metadata": {},
   "source": [
    "DESCRIPTIVE ANALYSIS"
   ]
  },
  {
   "cell_type": "code",
   "execution_count": 29,
   "id": "89f94ebe",
   "metadata": {},
   "outputs": [
    {
     "data": {
      "text/html": [
       "<div>\n",
       "<style scoped>\n",
       "    .dataframe tbody tr th:only-of-type {\n",
       "        vertical-align: middle;\n",
       "    }\n",
       "\n",
       "    .dataframe tbody tr th {\n",
       "        vertical-align: top;\n",
       "    }\n",
       "\n",
       "    .dataframe thead th {\n",
       "        text-align: right;\n",
       "    }\n",
       "</style>\n",
       "<table border=\"1\" class=\"dataframe\">\n",
       "  <thead>\n",
       "    <tr style=\"text-align: right;\">\n",
       "      <th></th>\n",
       "      <th>race</th>\n",
       "      <th>gender</th>\n",
       "      <th>age</th>\n",
       "      <th>admission_type_id</th>\n",
       "      <th>discharge_disposition_id</th>\n",
       "      <th>admission_source_id</th>\n",
       "      <th>time_in_hospital</th>\n",
       "      <th>num_lab_procedures</th>\n",
       "      <th>num_procedures</th>\n",
       "      <th>num_medications</th>\n",
       "      <th>...</th>\n",
       "      <th>tolazamide</th>\n",
       "      <th>insulin</th>\n",
       "      <th>glyburide-metformin</th>\n",
       "      <th>glipizide-metformin</th>\n",
       "      <th>glimepiride-pioglitazone</th>\n",
       "      <th>metformin-rosiglitazone</th>\n",
       "      <th>metformin-pioglitazone</th>\n",
       "      <th>change</th>\n",
       "      <th>diabetesMed</th>\n",
       "      <th>readmitted</th>\n",
       "    </tr>\n",
       "  </thead>\n",
       "  <tbody>\n",
       "    <tr>\n",
       "      <th>count</th>\n",
       "      <td>98052</td>\n",
       "      <td>98052</td>\n",
       "      <td>98052</td>\n",
       "      <td>98052.000000</td>\n",
       "      <td>98052.000000</td>\n",
       "      <td>98052.000000</td>\n",
       "      <td>98052.000000</td>\n",
       "      <td>98052.000000</td>\n",
       "      <td>98052.000000</td>\n",
       "      <td>98052.000000</td>\n",
       "      <td>...</td>\n",
       "      <td>98052</td>\n",
       "      <td>98052</td>\n",
       "      <td>98052</td>\n",
       "      <td>98052</td>\n",
       "      <td>98052</td>\n",
       "      <td>98052</td>\n",
       "      <td>98052</td>\n",
       "      <td>98052</td>\n",
       "      <td>98052</td>\n",
       "      <td>98052.000000</td>\n",
       "    </tr>\n",
       "    <tr>\n",
       "      <th>unique</th>\n",
       "      <td>5</td>\n",
       "      <td>2</td>\n",
       "      <td>10</td>\n",
       "      <td>NaN</td>\n",
       "      <td>NaN</td>\n",
       "      <td>NaN</td>\n",
       "      <td>NaN</td>\n",
       "      <td>NaN</td>\n",
       "      <td>NaN</td>\n",
       "      <td>NaN</td>\n",
       "      <td>...</td>\n",
       "      <td>3</td>\n",
       "      <td>4</td>\n",
       "      <td>4</td>\n",
       "      <td>2</td>\n",
       "      <td>2</td>\n",
       "      <td>1</td>\n",
       "      <td>2</td>\n",
       "      <td>2</td>\n",
       "      <td>2</td>\n",
       "      <td>NaN</td>\n",
       "    </tr>\n",
       "    <tr>\n",
       "      <th>top</th>\n",
       "      <td>Caucasian</td>\n",
       "      <td>Female</td>\n",
       "      <td>[70-80)</td>\n",
       "      <td>NaN</td>\n",
       "      <td>NaN</td>\n",
       "      <td>NaN</td>\n",
       "      <td>NaN</td>\n",
       "      <td>NaN</td>\n",
       "      <td>NaN</td>\n",
       "      <td>NaN</td>\n",
       "      <td>...</td>\n",
       "      <td>No</td>\n",
       "      <td>No</td>\n",
       "      <td>No</td>\n",
       "      <td>No</td>\n",
       "      <td>No</td>\n",
       "      <td>No</td>\n",
       "      <td>No</td>\n",
       "      <td>No</td>\n",
       "      <td>Yes</td>\n",
       "      <td>NaN</td>\n",
       "    </tr>\n",
       "    <tr>\n",
       "      <th>freq</th>\n",
       "      <td>75079</td>\n",
       "      <td>52833</td>\n",
       "      <td>25305</td>\n",
       "      <td>NaN</td>\n",
       "      <td>NaN</td>\n",
       "      <td>NaN</td>\n",
       "      <td>NaN</td>\n",
       "      <td>NaN</td>\n",
       "      <td>NaN</td>\n",
       "      <td>NaN</td>\n",
       "      <td>...</td>\n",
       "      <td>98015</td>\n",
       "      <td>45942</td>\n",
       "      <td>97383</td>\n",
       "      <td>98039</td>\n",
       "      <td>98051</td>\n",
       "      <td>98052</td>\n",
       "      <td>98051</td>\n",
       "      <td>52774</td>\n",
       "      <td>75350</td>\n",
       "      <td>NaN</td>\n",
       "    </tr>\n",
       "    <tr>\n",
       "      <th>mean</th>\n",
       "      <td>NaN</td>\n",
       "      <td>NaN</td>\n",
       "      <td>NaN</td>\n",
       "      <td>2.025803</td>\n",
       "      <td>3.753396</td>\n",
       "      <td>5.776741</td>\n",
       "      <td>4.422011</td>\n",
       "      <td>43.148462</td>\n",
       "      <td>1.350712</td>\n",
       "      <td>16.119590</td>\n",
       "      <td>...</td>\n",
       "      <td>NaN</td>\n",
       "      <td>NaN</td>\n",
       "      <td>NaN</td>\n",
       "      <td>NaN</td>\n",
       "      <td>NaN</td>\n",
       "      <td>NaN</td>\n",
       "      <td>NaN</td>\n",
       "      <td>NaN</td>\n",
       "      <td>NaN</td>\n",
       "      <td>0.112858</td>\n",
       "    </tr>\n",
       "    <tr>\n",
       "      <th>std</th>\n",
       "      <td>NaN</td>\n",
       "      <td>NaN</td>\n",
       "      <td>NaN</td>\n",
       "      <td>1.450121</td>\n",
       "      <td>5.309412</td>\n",
       "      <td>4.071632</td>\n",
       "      <td>2.993070</td>\n",
       "      <td>19.711757</td>\n",
       "      <td>1.708475</td>\n",
       "      <td>8.108496</td>\n",
       "      <td>...</td>\n",
       "      <td>NaN</td>\n",
       "      <td>NaN</td>\n",
       "      <td>NaN</td>\n",
       "      <td>NaN</td>\n",
       "      <td>NaN</td>\n",
       "      <td>NaN</td>\n",
       "      <td>NaN</td>\n",
       "      <td>NaN</td>\n",
       "      <td>NaN</td>\n",
       "      <td>0.316421</td>\n",
       "    </tr>\n",
       "    <tr>\n",
       "      <th>min</th>\n",
       "      <td>NaN</td>\n",
       "      <td>NaN</td>\n",
       "      <td>NaN</td>\n",
       "      <td>1.000000</td>\n",
       "      <td>1.000000</td>\n",
       "      <td>1.000000</td>\n",
       "      <td>1.000000</td>\n",
       "      <td>1.000000</td>\n",
       "      <td>0.000000</td>\n",
       "      <td>1.000000</td>\n",
       "      <td>...</td>\n",
       "      <td>NaN</td>\n",
       "      <td>NaN</td>\n",
       "      <td>NaN</td>\n",
       "      <td>NaN</td>\n",
       "      <td>NaN</td>\n",
       "      <td>NaN</td>\n",
       "      <td>NaN</td>\n",
       "      <td>NaN</td>\n",
       "      <td>NaN</td>\n",
       "      <td>0.000000</td>\n",
       "    </tr>\n",
       "    <tr>\n",
       "      <th>25%</th>\n",
       "      <td>NaN</td>\n",
       "      <td>NaN</td>\n",
       "      <td>NaN</td>\n",
       "      <td>1.000000</td>\n",
       "      <td>1.000000</td>\n",
       "      <td>1.000000</td>\n",
       "      <td>2.000000</td>\n",
       "      <td>31.000000</td>\n",
       "      <td>0.000000</td>\n",
       "      <td>11.000000</td>\n",
       "      <td>...</td>\n",
       "      <td>NaN</td>\n",
       "      <td>NaN</td>\n",
       "      <td>NaN</td>\n",
       "      <td>NaN</td>\n",
       "      <td>NaN</td>\n",
       "      <td>NaN</td>\n",
       "      <td>NaN</td>\n",
       "      <td>NaN</td>\n",
       "      <td>NaN</td>\n",
       "      <td>0.000000</td>\n",
       "    </tr>\n",
       "    <tr>\n",
       "      <th>50%</th>\n",
       "      <td>NaN</td>\n",
       "      <td>NaN</td>\n",
       "      <td>NaN</td>\n",
       "      <td>1.000000</td>\n",
       "      <td>1.000000</td>\n",
       "      <td>7.000000</td>\n",
       "      <td>4.000000</td>\n",
       "      <td>44.000000</td>\n",
       "      <td>1.000000</td>\n",
       "      <td>15.000000</td>\n",
       "      <td>...</td>\n",
       "      <td>NaN</td>\n",
       "      <td>NaN</td>\n",
       "      <td>NaN</td>\n",
       "      <td>NaN</td>\n",
       "      <td>NaN</td>\n",
       "      <td>NaN</td>\n",
       "      <td>NaN</td>\n",
       "      <td>NaN</td>\n",
       "      <td>NaN</td>\n",
       "      <td>0.000000</td>\n",
       "    </tr>\n",
       "    <tr>\n",
       "      <th>75%</th>\n",
       "      <td>NaN</td>\n",
       "      <td>NaN</td>\n",
       "      <td>NaN</td>\n",
       "      <td>3.000000</td>\n",
       "      <td>4.000000</td>\n",
       "      <td>7.000000</td>\n",
       "      <td>6.000000</td>\n",
       "      <td>57.000000</td>\n",
       "      <td>2.000000</td>\n",
       "      <td>20.000000</td>\n",
       "      <td>...</td>\n",
       "      <td>NaN</td>\n",
       "      <td>NaN</td>\n",
       "      <td>NaN</td>\n",
       "      <td>NaN</td>\n",
       "      <td>NaN</td>\n",
       "      <td>NaN</td>\n",
       "      <td>NaN</td>\n",
       "      <td>NaN</td>\n",
       "      <td>NaN</td>\n",
       "      <td>0.000000</td>\n",
       "    </tr>\n",
       "    <tr>\n",
       "      <th>max</th>\n",
       "      <td>NaN</td>\n",
       "      <td>NaN</td>\n",
       "      <td>NaN</td>\n",
       "      <td>8.000000</td>\n",
       "      <td>28.000000</td>\n",
       "      <td>25.000000</td>\n",
       "      <td>14.000000</td>\n",
       "      <td>132.000000</td>\n",
       "      <td>6.000000</td>\n",
       "      <td>81.000000</td>\n",
       "      <td>...</td>\n",
       "      <td>NaN</td>\n",
       "      <td>NaN</td>\n",
       "      <td>NaN</td>\n",
       "      <td>NaN</td>\n",
       "      <td>NaN</td>\n",
       "      <td>NaN</td>\n",
       "      <td>NaN</td>\n",
       "      <td>NaN</td>\n",
       "      <td>NaN</td>\n",
       "      <td>1.000000</td>\n",
       "    </tr>\n",
       "  </tbody>\n",
       "</table>\n",
       "<p>11 rows × 43 columns</p>\n",
       "</div>"
      ],
      "text/plain": [
       "             race  gender      age  admission_type_id  \\\n",
       "count       98052   98052    98052       98052.000000   \n",
       "unique          5       2       10                NaN   \n",
       "top     Caucasian  Female  [70-80)                NaN   \n",
       "freq        75079   52833    25305                NaN   \n",
       "mean          NaN     NaN      NaN           2.025803   \n",
       "std           NaN     NaN      NaN           1.450121   \n",
       "min           NaN     NaN      NaN           1.000000   \n",
       "25%           NaN     NaN      NaN           1.000000   \n",
       "50%           NaN     NaN      NaN           1.000000   \n",
       "75%           NaN     NaN      NaN           3.000000   \n",
       "max           NaN     NaN      NaN           8.000000   \n",
       "\n",
       "        discharge_disposition_id  admission_source_id  time_in_hospital  \\\n",
       "count               98052.000000         98052.000000      98052.000000   \n",
       "unique                       NaN                  NaN               NaN   \n",
       "top                          NaN                  NaN               NaN   \n",
       "freq                         NaN                  NaN               NaN   \n",
       "mean                    3.753396             5.776741          4.422011   \n",
       "std                     5.309412             4.071632          2.993070   \n",
       "min                     1.000000             1.000000          1.000000   \n",
       "25%                     1.000000             1.000000          2.000000   \n",
       "50%                     1.000000             7.000000          4.000000   \n",
       "75%                     4.000000             7.000000          6.000000   \n",
       "max                    28.000000            25.000000         14.000000   \n",
       "\n",
       "        num_lab_procedures  num_procedures  num_medications  ...  tolazamide  \\\n",
       "count         98052.000000    98052.000000     98052.000000  ...       98052   \n",
       "unique                 NaN             NaN              NaN  ...           3   \n",
       "top                    NaN             NaN              NaN  ...          No   \n",
       "freq                   NaN             NaN              NaN  ...       98015   \n",
       "mean             43.148462        1.350712        16.119590  ...         NaN   \n",
       "std              19.711757        1.708475         8.108496  ...         NaN   \n",
       "min               1.000000        0.000000         1.000000  ...         NaN   \n",
       "25%              31.000000        0.000000        11.000000  ...         NaN   \n",
       "50%              44.000000        1.000000        15.000000  ...         NaN   \n",
       "75%              57.000000        2.000000        20.000000  ...         NaN   \n",
       "max             132.000000        6.000000        81.000000  ...         NaN   \n",
       "\n",
       "        insulin  glyburide-metformin glipizide-metformin  \\\n",
       "count     98052                98052               98052   \n",
       "unique        4                    4                   2   \n",
       "top          No                   No                  No   \n",
       "freq      45942                97383               98039   \n",
       "mean        NaN                  NaN                 NaN   \n",
       "std         NaN                  NaN                 NaN   \n",
       "min         NaN                  NaN                 NaN   \n",
       "25%         NaN                  NaN                 NaN   \n",
       "50%         NaN                  NaN                 NaN   \n",
       "75%         NaN                  NaN                 NaN   \n",
       "max         NaN                  NaN                 NaN   \n",
       "\n",
       "       glimepiride-pioglitazone metformin-rosiglitazone  \\\n",
       "count                     98052                   98052   \n",
       "unique                        2                       1   \n",
       "top                          No                      No   \n",
       "freq                      98051                   98052   \n",
       "mean                        NaN                     NaN   \n",
       "std                         NaN                     NaN   \n",
       "min                         NaN                     NaN   \n",
       "25%                         NaN                     NaN   \n",
       "50%                         NaN                     NaN   \n",
       "75%                         NaN                     NaN   \n",
       "max                         NaN                     NaN   \n",
       "\n",
       "        metformin-pioglitazone change diabetesMed    readmitted  \n",
       "count                    98052  98052       98052  98052.000000  \n",
       "unique                       2      2           2           NaN  \n",
       "top                         No     No         Yes           NaN  \n",
       "freq                     98051  52774       75350           NaN  \n",
       "mean                       NaN    NaN         NaN      0.112858  \n",
       "std                        NaN    NaN         NaN      0.316421  \n",
       "min                        NaN    NaN         NaN      0.000000  \n",
       "25%                        NaN    NaN         NaN      0.000000  \n",
       "50%                        NaN    NaN         NaN      0.000000  \n",
       "75%                        NaN    NaN         NaN      0.000000  \n",
       "max                        NaN    NaN         NaN      1.000000  \n",
       "\n",
       "[11 rows x 43 columns]"
      ]
     },
     "execution_count": 29,
     "metadata": {},
     "output_type": "execute_result"
    }
   ],
   "source": [
    "data.describe(include='all')\n"
   ]
  },
  {
   "cell_type": "markdown",
   "id": "2941fb81",
   "metadata": {},
   "source": [
    "# Model Building"
   ]
  },
  {
   "cell_type": "markdown",
   "id": "717e7670",
   "metadata": {},
   "source": [
    "As we can see our dataset has categorical data.  \n",
    "Before training our model, we must convert the categorical data into a numeric form"
   ]
  },
  {
   "cell_type": "code",
   "execution_count": 30,
   "id": "79813146",
   "metadata": {},
   "outputs": [],
   "source": [
    "data = data.replace({'admission_type_id':{2:1,7:1,6:5,8:5}, 'discharge_disposition_id':{6:1,8:1,9:1,13:1,3:2,4:2,5:2,\n",
    "                    14:2,22:2,23:2,24:2,12:10,15:10,16:10,17:10,25:18,26:18}, 'admission_source_id':{2:1,3:1,5:4,6:4,\n",
    "                    10:4,22:4,25:4,15:9,17:9,20:9,21:9,13:11,14:11}})"
   ]
  },
  {
   "cell_type": "code",
   "execution_count": 31,
   "id": "eb6cb3de",
   "metadata": {},
   "outputs": [],
   "source": [
    "drugs = ['metformin', 'repaglinide', 'glimepiride', 'glipizide',\n",
    "                'glyburide', 'pioglitazone', 'rosiglitazone', 'insulin']\n",
    "drugs_to_drop =[\"nateglinide\", \"chlorpropamide\", \"acetohexamide\", \"tolbutamide\",\n",
    "             \"acarbose\", \"miglitol\", \"troglitazone\", \"tolazamide\", \"glyburide-metformin\", \n",
    "                \"glipizide-metformin\",\"glimepiride-pioglitazone\", \"metformin-rosiglitazone\", \"metformin-pioglitazone\"]"
   ]
  },
  {
   "cell_type": "code",
   "execution_count": 32,
   "id": "2d18c3f3",
   "metadata": {},
   "outputs": [],
   "source": [
    "for col in drugs:\n",
    "    data[col] = data[col].replace('No', 0)\n",
    "    data[col] = data[col].replace('Steady', 1)\n",
    "    data[col] = data[col].replace('Up', 1)\n",
    "    data[col] = data[col].replace('Down', 1)"
   ]
  },
  {
   "cell_type": "code",
   "execution_count": 33,
   "id": "55835afc",
   "metadata": {},
   "outputs": [],
   "source": [
    "data.drop(drugs_to_drop, axis=1,inplace=True)"
   ]
  },
  {
   "cell_type": "code",
   "execution_count": 34,
   "id": "ec4576ab",
   "metadata": {},
   "outputs": [
    {
     "data": {
      "text/plain": [
       "None    81859\n",
       ">8       7631\n",
       "Norm     4854\n",
       ">7       3708\n",
       "Name: A1Cresult, dtype: int64"
      ]
     },
     "execution_count": 34,
     "metadata": {},
     "output_type": "execute_result"
    }
   ],
   "source": [
    "data['A1Cresult'].value_counts()"
   ]
  },
  {
   "cell_type": "code",
   "execution_count": 35,
   "id": "5b897091",
   "metadata": {},
   "outputs": [
    {
     "data": {
      "text/plain": [
       "None    92844\n",
       "Norm     2532\n",
       ">200     1449\n",
       ">300     1227\n",
       "Name: max_glu_serum, dtype: int64"
      ]
     },
     "execution_count": 35,
     "metadata": {},
     "output_type": "execute_result"
    }
   ],
   "source": [
    "data['max_glu_serum'].value_counts()"
   ]
  },
  {
   "cell_type": "markdown",
   "id": "ca97dcf1",
   "metadata": {},
   "source": [
    "encode the values of columns - A1Cresult and max_glu_serum."
   ]
  },
  {
   "cell_type": "code",
   "execution_count": 36,
   "id": "393261bf",
   "metadata": {},
   "outputs": [],
   "source": [
    "data['A1Cresult'] = data['A1Cresult'].replace('>7', 1)\n",
    "data['A1Cresult'] = data['A1Cresult'].replace('>8', 1)\n",
    "data['A1Cresult'] = data['A1Cresult'].replace('Norm', 0)\n",
    "data['A1Cresult'] = data['A1Cresult'].replace('None', -99)\n",
    "\n",
    "data['max_glu_serum'] = data['max_glu_serum'].replace('>200', 1)\n",
    "data['max_glu_serum'] = data['max_glu_serum'].replace('>300', 1)\n",
    "data['max_glu_serum'] = data['max_glu_serum'].replace('Norm', 0)\n",
    "data['max_glu_serum'] = data['max_glu_serum'].replace('None', -99)"
   ]
  },
  {
   "cell_type": "code",
   "execution_count": 37,
   "id": "0fa91f18",
   "metadata": {},
   "outputs": [
    {
     "data": {
      "text/plain": [
       "[70-80)     25305\n",
       "[60-70)     21809\n",
       "[80-90)     16702\n",
       "[50-60)     16697\n",
       "[40-50)      9265\n",
       "[30-40)      3548\n",
       "[90-100)     2717\n",
       "[20-30)      1478\n",
       "[10-20)       466\n",
       "[0-10)         65\n",
       "Name: age, dtype: int64"
      ]
     },
     "execution_count": 37,
     "metadata": {},
     "output_type": "execute_result"
    }
   ],
   "source": [
    "data['age'].value_counts()"
   ]
  },
  {
   "cell_type": "markdown",
   "id": "ae098e30",
   "metadata": {},
   "source": [
    "let us convert age column into numeric by selecting the midpoint of the range given in the dataset"
   ]
  },
  {
   "cell_type": "code",
   "execution_count": 38,
   "id": "127e7510",
   "metadata": {},
   "outputs": [
    {
     "data": {
      "text/plain": [
       "75    25305\n",
       "65    21809\n",
       "85    16702\n",
       "55    16697\n",
       "45     9265\n",
       "35     3548\n",
       "95     2717\n",
       "25     1478\n",
       "15      466\n",
       "5        65\n",
       "Name: age, dtype: int64"
      ]
     },
     "execution_count": 38,
     "metadata": {},
     "output_type": "execute_result"
    }
   ],
   "source": [
    "for i in range(0,10):\n",
    "    data['age'] = data['age'].replace('['+str(10*i)+'-'+str(10*(i+1))+')', (10*i+10*(i+1))//2)\n",
    "data['age'].value_counts()"
   ]
  },
  {
   "cell_type": "markdown",
   "id": "1942617e",
   "metadata": {},
   "source": [
    "The columns diag_1, diag_2, diag_3 contain icd9 code values that represent the diagnosis."
   ]
  },
  {
   "cell_type": "markdown",
   "id": "b1540ce8",
   "metadata": {},
   "source": [
    "The following abbreviations are used for particular icd9 codes: “circulatory”\n",
    "for icd9: 390–459, 785, “digestive” for icd9: 520–579, 787, “genitourinary” \n",
    "for icd9: 580–629, 788, “diabetes” for icd9: 250.xx, “injury” for icd9: 800–999, “musculoskeletal” \n",
    "for icd9: 710–739, “neoplasms” for icd9: 140–239, “respiratory’’for icd9: 460–519, 786, and “other” for otherwise."
   ]
  },
  {
   "cell_type": "code",
   "execution_count": 39,
   "id": "6076726b",
   "metadata": {},
   "outputs": [],
   "source": [
    "def conv_diag(icd9):\n",
    "    try:\n",
    "        n = float(icd9)\n",
    "        if (n>=390 and n<=459) or (n==785):\n",
    "            return \"circulatory\" \n",
    "        elif (n>=520 and n<=579) or (n==787):\n",
    "            return \"digestive\"\n",
    "        elif (n>=580 and n<=629) or (n==788):\n",
    "            return \"genitourinary\"\n",
    "        elif np.trunc(n)==250:\n",
    "            return \"diabetes\"\n",
    "        elif (n>=800 and n<=999):\n",
    "            return \"injury\"\n",
    "        elif (n>=710 and n<=739):\n",
    "            return \"musculoskeletal\"\n",
    "        elif (n>140 and n<=239):\n",
    "            return \"neoplasms\"\n",
    "        elif (n>=460 and n<=519) or (n==786):\n",
    "            return \"respiratory\"\n",
    "        else :\n",
    "            return \"other\"\n",
    "    except:\n",
    "        return \"other\""
   ]
  },
  {
   "cell_type": "code",
   "execution_count": 40,
   "id": "126e1308",
   "metadata": {},
   "outputs": [],
   "source": [
    "data['diag_1'] = data['diag_1'].apply(conv_diag)\n",
    "data['diag_2'] = data['diag_2'].apply(conv_diag)\n",
    "data['diag_3'] = data['diag_3'].apply(conv_diag)"
   ]
  },
  {
   "cell_type": "code",
   "execution_count": 41,
   "id": "6ac7d638",
   "metadata": {},
   "outputs": [
    {
     "data": {
      "text/html": [
       "<div>\n",
       "<style scoped>\n",
       "    .dataframe tbody tr th:only-of-type {\n",
       "        vertical-align: middle;\n",
       "    }\n",
       "\n",
       "    .dataframe tbody tr th {\n",
       "        vertical-align: top;\n",
       "    }\n",
       "\n",
       "    .dataframe thead th {\n",
       "        text-align: right;\n",
       "    }\n",
       "</style>\n",
       "<table border=\"1\" class=\"dataframe\">\n",
       "  <thead>\n",
       "    <tr style=\"text-align: right;\">\n",
       "      <th></th>\n",
       "      <th>1</th>\n",
       "      <th>2</th>\n",
       "      <th>3</th>\n",
       "      <th>4</th>\n",
       "      <th>5</th>\n",
       "    </tr>\n",
       "  </thead>\n",
       "  <tbody>\n",
       "    <tr>\n",
       "      <th>race</th>\n",
       "      <td>Caucasian</td>\n",
       "      <td>AfricanAmerican</td>\n",
       "      <td>Caucasian</td>\n",
       "      <td>Caucasian</td>\n",
       "      <td>Caucasian</td>\n",
       "    </tr>\n",
       "    <tr>\n",
       "      <th>gender</th>\n",
       "      <td>Female</td>\n",
       "      <td>Female</td>\n",
       "      <td>Male</td>\n",
       "      <td>Male</td>\n",
       "      <td>Male</td>\n",
       "    </tr>\n",
       "    <tr>\n",
       "      <th>age</th>\n",
       "      <td>15</td>\n",
       "      <td>25</td>\n",
       "      <td>35</td>\n",
       "      <td>45</td>\n",
       "      <td>55</td>\n",
       "    </tr>\n",
       "    <tr>\n",
       "      <th>admission_type_id</th>\n",
       "      <td>1</td>\n",
       "      <td>1</td>\n",
       "      <td>1</td>\n",
       "      <td>1</td>\n",
       "      <td>1</td>\n",
       "    </tr>\n",
       "    <tr>\n",
       "      <th>discharge_disposition_id</th>\n",
       "      <td>1</td>\n",
       "      <td>1</td>\n",
       "      <td>1</td>\n",
       "      <td>1</td>\n",
       "      <td>1</td>\n",
       "    </tr>\n",
       "    <tr>\n",
       "      <th>admission_source_id</th>\n",
       "      <td>7</td>\n",
       "      <td>7</td>\n",
       "      <td>7</td>\n",
       "      <td>7</td>\n",
       "      <td>1</td>\n",
       "    </tr>\n",
       "    <tr>\n",
       "      <th>time_in_hospital</th>\n",
       "      <td>3</td>\n",
       "      <td>2</td>\n",
       "      <td>2</td>\n",
       "      <td>1</td>\n",
       "      <td>3</td>\n",
       "    </tr>\n",
       "    <tr>\n",
       "      <th>num_lab_procedures</th>\n",
       "      <td>59</td>\n",
       "      <td>11</td>\n",
       "      <td>44</td>\n",
       "      <td>51</td>\n",
       "      <td>31</td>\n",
       "    </tr>\n",
       "    <tr>\n",
       "      <th>num_procedures</th>\n",
       "      <td>0</td>\n",
       "      <td>5</td>\n",
       "      <td>1</td>\n",
       "      <td>0</td>\n",
       "      <td>6</td>\n",
       "    </tr>\n",
       "    <tr>\n",
       "      <th>num_medications</th>\n",
       "      <td>18</td>\n",
       "      <td>13</td>\n",
       "      <td>16</td>\n",
       "      <td>8</td>\n",
       "      <td>16</td>\n",
       "    </tr>\n",
       "    <tr>\n",
       "      <th>number_outpatient</th>\n",
       "      <td>0</td>\n",
       "      <td>2</td>\n",
       "      <td>0</td>\n",
       "      <td>0</td>\n",
       "      <td>0</td>\n",
       "    </tr>\n",
       "    <tr>\n",
       "      <th>number_emergency</th>\n",
       "      <td>0</td>\n",
       "      <td>0</td>\n",
       "      <td>0</td>\n",
       "      <td>0</td>\n",
       "      <td>0</td>\n",
       "    </tr>\n",
       "    <tr>\n",
       "      <th>number_inpatient</th>\n",
       "      <td>0</td>\n",
       "      <td>1</td>\n",
       "      <td>0</td>\n",
       "      <td>0</td>\n",
       "      <td>0</td>\n",
       "    </tr>\n",
       "    <tr>\n",
       "      <th>diag_1</th>\n",
       "      <td>other</td>\n",
       "      <td>other</td>\n",
       "      <td>other</td>\n",
       "      <td>neoplasms</td>\n",
       "      <td>circulatory</td>\n",
       "    </tr>\n",
       "    <tr>\n",
       "      <th>diag_2</th>\n",
       "      <td>diabetes</td>\n",
       "      <td>diabetes</td>\n",
       "      <td>diabetes</td>\n",
       "      <td>neoplasms</td>\n",
       "      <td>circulatory</td>\n",
       "    </tr>\n",
       "    <tr>\n",
       "      <th>diag_3</th>\n",
       "      <td>other</td>\n",
       "      <td>other</td>\n",
       "      <td>circulatory</td>\n",
       "      <td>diabetes</td>\n",
       "      <td>diabetes</td>\n",
       "    </tr>\n",
       "    <tr>\n",
       "      <th>number_diagnoses</th>\n",
       "      <td>9</td>\n",
       "      <td>6</td>\n",
       "      <td>7</td>\n",
       "      <td>5</td>\n",
       "      <td>9</td>\n",
       "    </tr>\n",
       "    <tr>\n",
       "      <th>max_glu_serum</th>\n",
       "      <td>-99</td>\n",
       "      <td>-99</td>\n",
       "      <td>-99</td>\n",
       "      <td>-99</td>\n",
       "      <td>-99</td>\n",
       "    </tr>\n",
       "    <tr>\n",
       "      <th>A1Cresult</th>\n",
       "      <td>-99</td>\n",
       "      <td>-99</td>\n",
       "      <td>-99</td>\n",
       "      <td>-99</td>\n",
       "      <td>-99</td>\n",
       "    </tr>\n",
       "    <tr>\n",
       "      <th>metformin</th>\n",
       "      <td>0</td>\n",
       "      <td>0</td>\n",
       "      <td>0</td>\n",
       "      <td>0</td>\n",
       "      <td>0</td>\n",
       "    </tr>\n",
       "    <tr>\n",
       "      <th>repaglinide</th>\n",
       "      <td>0</td>\n",
       "      <td>0</td>\n",
       "      <td>0</td>\n",
       "      <td>0</td>\n",
       "      <td>0</td>\n",
       "    </tr>\n",
       "    <tr>\n",
       "      <th>glimepiride</th>\n",
       "      <td>0</td>\n",
       "      <td>0</td>\n",
       "      <td>0</td>\n",
       "      <td>0</td>\n",
       "      <td>0</td>\n",
       "    </tr>\n",
       "    <tr>\n",
       "      <th>glipizide</th>\n",
       "      <td>0</td>\n",
       "      <td>1</td>\n",
       "      <td>0</td>\n",
       "      <td>1</td>\n",
       "      <td>0</td>\n",
       "    </tr>\n",
       "    <tr>\n",
       "      <th>glyburide</th>\n",
       "      <td>0</td>\n",
       "      <td>0</td>\n",
       "      <td>0</td>\n",
       "      <td>0</td>\n",
       "      <td>0</td>\n",
       "    </tr>\n",
       "    <tr>\n",
       "      <th>pioglitazone</th>\n",
       "      <td>0</td>\n",
       "      <td>0</td>\n",
       "      <td>0</td>\n",
       "      <td>0</td>\n",
       "      <td>0</td>\n",
       "    </tr>\n",
       "    <tr>\n",
       "      <th>rosiglitazone</th>\n",
       "      <td>0</td>\n",
       "      <td>0</td>\n",
       "      <td>0</td>\n",
       "      <td>0</td>\n",
       "      <td>0</td>\n",
       "    </tr>\n",
       "    <tr>\n",
       "      <th>insulin</th>\n",
       "      <td>1</td>\n",
       "      <td>0</td>\n",
       "      <td>1</td>\n",
       "      <td>1</td>\n",
       "      <td>1</td>\n",
       "    </tr>\n",
       "    <tr>\n",
       "      <th>change</th>\n",
       "      <td>Ch</td>\n",
       "      <td>No</td>\n",
       "      <td>Ch</td>\n",
       "      <td>Ch</td>\n",
       "      <td>No</td>\n",
       "    </tr>\n",
       "    <tr>\n",
       "      <th>diabetesMed</th>\n",
       "      <td>Yes</td>\n",
       "      <td>Yes</td>\n",
       "      <td>Yes</td>\n",
       "      <td>Yes</td>\n",
       "      <td>Yes</td>\n",
       "    </tr>\n",
       "    <tr>\n",
       "      <th>readmitted</th>\n",
       "      <td>0</td>\n",
       "      <td>0</td>\n",
       "      <td>0</td>\n",
       "      <td>0</td>\n",
       "      <td>0</td>\n",
       "    </tr>\n",
       "  </tbody>\n",
       "</table>\n",
       "</div>"
      ],
      "text/plain": [
       "                                  1                2            3          4  \\\n",
       "race                      Caucasian  AfricanAmerican    Caucasian  Caucasian   \n",
       "gender                       Female           Female         Male       Male   \n",
       "age                              15               25           35         45   \n",
       "admission_type_id                 1                1            1          1   \n",
       "discharge_disposition_id          1                1            1          1   \n",
       "admission_source_id               7                7            7          7   \n",
       "time_in_hospital                  3                2            2          1   \n",
       "num_lab_procedures               59               11           44         51   \n",
       "num_procedures                    0                5            1          0   \n",
       "num_medications                  18               13           16          8   \n",
       "number_outpatient                 0                2            0          0   \n",
       "number_emergency                  0                0            0          0   \n",
       "number_inpatient                  0                1            0          0   \n",
       "diag_1                        other            other        other  neoplasms   \n",
       "diag_2                     diabetes         diabetes     diabetes  neoplasms   \n",
       "diag_3                        other            other  circulatory   diabetes   \n",
       "number_diagnoses                  9                6            7          5   \n",
       "max_glu_serum                   -99              -99          -99        -99   \n",
       "A1Cresult                       -99              -99          -99        -99   \n",
       "metformin                         0                0            0          0   \n",
       "repaglinide                       0                0            0          0   \n",
       "glimepiride                       0                0            0          0   \n",
       "glipizide                         0                1            0          1   \n",
       "glyburide                         0                0            0          0   \n",
       "pioglitazone                      0                0            0          0   \n",
       "rosiglitazone                     0                0            0          0   \n",
       "insulin                           1                0            1          1   \n",
       "change                           Ch               No           Ch         Ch   \n",
       "diabetesMed                     Yes              Yes          Yes        Yes   \n",
       "readmitted                        0                0            0          0   \n",
       "\n",
       "                                    5  \n",
       "race                        Caucasian  \n",
       "gender                           Male  \n",
       "age                                55  \n",
       "admission_type_id                   1  \n",
       "discharge_disposition_id            1  \n",
       "admission_source_id                 1  \n",
       "time_in_hospital                    3  \n",
       "num_lab_procedures                 31  \n",
       "num_procedures                      6  \n",
       "num_medications                    16  \n",
       "number_outpatient                   0  \n",
       "number_emergency                    0  \n",
       "number_inpatient                    0  \n",
       "diag_1                    circulatory  \n",
       "diag_2                    circulatory  \n",
       "diag_3                       diabetes  \n",
       "number_diagnoses                    9  \n",
       "max_glu_serum                     -99  \n",
       "A1Cresult                         -99  \n",
       "metformin                           0  \n",
       "repaglinide                         0  \n",
       "glimepiride                         0  \n",
       "glipizide                           0  \n",
       "glyburide                           0  \n",
       "pioglitazone                        0  \n",
       "rosiglitazone                       0  \n",
       "insulin                             1  \n",
       "change                             No  \n",
       "diabetesMed                       Yes  \n",
       "readmitted                          0  "
      ]
     },
     "execution_count": 41,
     "metadata": {},
     "output_type": "execute_result"
    }
   ],
   "source": [
    "data.head().T"
   ]
  },
  {
   "cell_type": "code",
   "execution_count": 42,
   "id": "c45ee288",
   "metadata": {},
   "outputs": [
    {
     "data": {
      "text/html": [
       "<div>\n",
       "<style scoped>\n",
       "    .dataframe tbody tr th:only-of-type {\n",
       "        vertical-align: middle;\n",
       "    }\n",
       "\n",
       "    .dataframe tbody tr th {\n",
       "        vertical-align: top;\n",
       "    }\n",
       "\n",
       "    .dataframe thead th {\n",
       "        text-align: right;\n",
       "    }\n",
       "</style>\n",
       "<table border=\"1\" class=\"dataframe\">\n",
       "  <thead>\n",
       "    <tr style=\"text-align: right;\">\n",
       "      <th></th>\n",
       "      <th>race</th>\n",
       "      <th>gender</th>\n",
       "      <th>age</th>\n",
       "      <th>admission_type_id</th>\n",
       "      <th>discharge_disposition_id</th>\n",
       "      <th>admission_source_id</th>\n",
       "      <th>time_in_hospital</th>\n",
       "      <th>num_lab_procedures</th>\n",
       "      <th>num_procedures</th>\n",
       "      <th>num_medications</th>\n",
       "      <th>...</th>\n",
       "      <th>repaglinide</th>\n",
       "      <th>glimepiride</th>\n",
       "      <th>glipizide</th>\n",
       "      <th>glyburide</th>\n",
       "      <th>pioglitazone</th>\n",
       "      <th>rosiglitazone</th>\n",
       "      <th>insulin</th>\n",
       "      <th>change</th>\n",
       "      <th>diabetesMed</th>\n",
       "      <th>readmitted</th>\n",
       "    </tr>\n",
       "  </thead>\n",
       "  <tbody>\n",
       "    <tr>\n",
       "      <th>0</th>\n",
       "      <td>Caucasian</td>\n",
       "      <td>Female</td>\n",
       "      <td>15</td>\n",
       "      <td>1</td>\n",
       "      <td>1</td>\n",
       "      <td>7</td>\n",
       "      <td>3</td>\n",
       "      <td>59</td>\n",
       "      <td>0</td>\n",
       "      <td>18</td>\n",
       "      <td>...</td>\n",
       "      <td>0</td>\n",
       "      <td>0</td>\n",
       "      <td>0</td>\n",
       "      <td>0</td>\n",
       "      <td>0</td>\n",
       "      <td>0</td>\n",
       "      <td>1</td>\n",
       "      <td>Ch</td>\n",
       "      <td>Yes</td>\n",
       "      <td>0</td>\n",
       "    </tr>\n",
       "    <tr>\n",
       "      <th>1</th>\n",
       "      <td>AfricanAmerican</td>\n",
       "      <td>Female</td>\n",
       "      <td>25</td>\n",
       "      <td>1</td>\n",
       "      <td>1</td>\n",
       "      <td>7</td>\n",
       "      <td>2</td>\n",
       "      <td>11</td>\n",
       "      <td>5</td>\n",
       "      <td>13</td>\n",
       "      <td>...</td>\n",
       "      <td>0</td>\n",
       "      <td>0</td>\n",
       "      <td>1</td>\n",
       "      <td>0</td>\n",
       "      <td>0</td>\n",
       "      <td>0</td>\n",
       "      <td>0</td>\n",
       "      <td>No</td>\n",
       "      <td>Yes</td>\n",
       "      <td>0</td>\n",
       "    </tr>\n",
       "    <tr>\n",
       "      <th>2</th>\n",
       "      <td>Caucasian</td>\n",
       "      <td>Male</td>\n",
       "      <td>35</td>\n",
       "      <td>1</td>\n",
       "      <td>1</td>\n",
       "      <td>7</td>\n",
       "      <td>2</td>\n",
       "      <td>44</td>\n",
       "      <td>1</td>\n",
       "      <td>16</td>\n",
       "      <td>...</td>\n",
       "      <td>0</td>\n",
       "      <td>0</td>\n",
       "      <td>0</td>\n",
       "      <td>0</td>\n",
       "      <td>0</td>\n",
       "      <td>0</td>\n",
       "      <td>1</td>\n",
       "      <td>Ch</td>\n",
       "      <td>Yes</td>\n",
       "      <td>0</td>\n",
       "    </tr>\n",
       "    <tr>\n",
       "      <th>3</th>\n",
       "      <td>Caucasian</td>\n",
       "      <td>Male</td>\n",
       "      <td>45</td>\n",
       "      <td>1</td>\n",
       "      <td>1</td>\n",
       "      <td>7</td>\n",
       "      <td>1</td>\n",
       "      <td>51</td>\n",
       "      <td>0</td>\n",
       "      <td>8</td>\n",
       "      <td>...</td>\n",
       "      <td>0</td>\n",
       "      <td>0</td>\n",
       "      <td>1</td>\n",
       "      <td>0</td>\n",
       "      <td>0</td>\n",
       "      <td>0</td>\n",
       "      <td>1</td>\n",
       "      <td>Ch</td>\n",
       "      <td>Yes</td>\n",
       "      <td>0</td>\n",
       "    </tr>\n",
       "    <tr>\n",
       "      <th>4</th>\n",
       "      <td>Caucasian</td>\n",
       "      <td>Male</td>\n",
       "      <td>55</td>\n",
       "      <td>1</td>\n",
       "      <td>1</td>\n",
       "      <td>1</td>\n",
       "      <td>3</td>\n",
       "      <td>31</td>\n",
       "      <td>6</td>\n",
       "      <td>16</td>\n",
       "      <td>...</td>\n",
       "      <td>0</td>\n",
       "      <td>0</td>\n",
       "      <td>0</td>\n",
       "      <td>0</td>\n",
       "      <td>0</td>\n",
       "      <td>0</td>\n",
       "      <td>1</td>\n",
       "      <td>No</td>\n",
       "      <td>Yes</td>\n",
       "      <td>0</td>\n",
       "    </tr>\n",
       "    <tr>\n",
       "      <th>...</th>\n",
       "      <td>...</td>\n",
       "      <td>...</td>\n",
       "      <td>...</td>\n",
       "      <td>...</td>\n",
       "      <td>...</td>\n",
       "      <td>...</td>\n",
       "      <td>...</td>\n",
       "      <td>...</td>\n",
       "      <td>...</td>\n",
       "      <td>...</td>\n",
       "      <td>...</td>\n",
       "      <td>...</td>\n",
       "      <td>...</td>\n",
       "      <td>...</td>\n",
       "      <td>...</td>\n",
       "      <td>...</td>\n",
       "      <td>...</td>\n",
       "      <td>...</td>\n",
       "      <td>...</td>\n",
       "      <td>...</td>\n",
       "      <td>...</td>\n",
       "    </tr>\n",
       "    <tr>\n",
       "      <th>98047</th>\n",
       "      <td>AfricanAmerican</td>\n",
       "      <td>Male</td>\n",
       "      <td>75</td>\n",
       "      <td>1</td>\n",
       "      <td>2</td>\n",
       "      <td>7</td>\n",
       "      <td>3</td>\n",
       "      <td>51</td>\n",
       "      <td>0</td>\n",
       "      <td>16</td>\n",
       "      <td>...</td>\n",
       "      <td>0</td>\n",
       "      <td>0</td>\n",
       "      <td>0</td>\n",
       "      <td>0</td>\n",
       "      <td>0</td>\n",
       "      <td>0</td>\n",
       "      <td>1</td>\n",
       "      <td>Ch</td>\n",
       "      <td>Yes</td>\n",
       "      <td>0</td>\n",
       "    </tr>\n",
       "    <tr>\n",
       "      <th>98048</th>\n",
       "      <td>AfricanAmerican</td>\n",
       "      <td>Female</td>\n",
       "      <td>85</td>\n",
       "      <td>1</td>\n",
       "      <td>2</td>\n",
       "      <td>4</td>\n",
       "      <td>5</td>\n",
       "      <td>33</td>\n",
       "      <td>3</td>\n",
       "      <td>18</td>\n",
       "      <td>...</td>\n",
       "      <td>0</td>\n",
       "      <td>0</td>\n",
       "      <td>0</td>\n",
       "      <td>0</td>\n",
       "      <td>0</td>\n",
       "      <td>0</td>\n",
       "      <td>1</td>\n",
       "      <td>No</td>\n",
       "      <td>Yes</td>\n",
       "      <td>0</td>\n",
       "    </tr>\n",
       "    <tr>\n",
       "      <th>98049</th>\n",
       "      <td>Caucasian</td>\n",
       "      <td>Male</td>\n",
       "      <td>75</td>\n",
       "      <td>1</td>\n",
       "      <td>1</td>\n",
       "      <td>7</td>\n",
       "      <td>1</td>\n",
       "      <td>53</td>\n",
       "      <td>0</td>\n",
       "      <td>9</td>\n",
       "      <td>...</td>\n",
       "      <td>0</td>\n",
       "      <td>0</td>\n",
       "      <td>0</td>\n",
       "      <td>0</td>\n",
       "      <td>0</td>\n",
       "      <td>0</td>\n",
       "      <td>1</td>\n",
       "      <td>Ch</td>\n",
       "      <td>Yes</td>\n",
       "      <td>0</td>\n",
       "    </tr>\n",
       "    <tr>\n",
       "      <th>98050</th>\n",
       "      <td>Caucasian</td>\n",
       "      <td>Female</td>\n",
       "      <td>85</td>\n",
       "      <td>1</td>\n",
       "      <td>2</td>\n",
       "      <td>7</td>\n",
       "      <td>10</td>\n",
       "      <td>45</td>\n",
       "      <td>2</td>\n",
       "      <td>21</td>\n",
       "      <td>...</td>\n",
       "      <td>0</td>\n",
       "      <td>0</td>\n",
       "      <td>1</td>\n",
       "      <td>0</td>\n",
       "      <td>1</td>\n",
       "      <td>0</td>\n",
       "      <td>1</td>\n",
       "      <td>Ch</td>\n",
       "      <td>Yes</td>\n",
       "      <td>0</td>\n",
       "    </tr>\n",
       "    <tr>\n",
       "      <th>98051</th>\n",
       "      <td>Caucasian</td>\n",
       "      <td>Male</td>\n",
       "      <td>75</td>\n",
       "      <td>1</td>\n",
       "      <td>1</td>\n",
       "      <td>7</td>\n",
       "      <td>6</td>\n",
       "      <td>13</td>\n",
       "      <td>3</td>\n",
       "      <td>3</td>\n",
       "      <td>...</td>\n",
       "      <td>0</td>\n",
       "      <td>0</td>\n",
       "      <td>0</td>\n",
       "      <td>0</td>\n",
       "      <td>0</td>\n",
       "      <td>0</td>\n",
       "      <td>0</td>\n",
       "      <td>No</td>\n",
       "      <td>No</td>\n",
       "      <td>0</td>\n",
       "    </tr>\n",
       "  </tbody>\n",
       "</table>\n",
       "<p>98052 rows × 30 columns</p>\n",
       "</div>"
      ],
      "text/plain": [
       "                  race  gender  age  admission_type_id  \\\n",
       "0            Caucasian  Female   15                  1   \n",
       "1      AfricanAmerican  Female   25                  1   \n",
       "2            Caucasian    Male   35                  1   \n",
       "3            Caucasian    Male   45                  1   \n",
       "4            Caucasian    Male   55                  1   \n",
       "...                ...     ...  ...                ...   \n",
       "98047  AfricanAmerican    Male   75                  1   \n",
       "98048  AfricanAmerican  Female   85                  1   \n",
       "98049        Caucasian    Male   75                  1   \n",
       "98050        Caucasian  Female   85                  1   \n",
       "98051        Caucasian    Male   75                  1   \n",
       "\n",
       "       discharge_disposition_id  admission_source_id  time_in_hospital  \\\n",
       "0                             1                    7                 3   \n",
       "1                             1                    7                 2   \n",
       "2                             1                    7                 2   \n",
       "3                             1                    7                 1   \n",
       "4                             1                    1                 3   \n",
       "...                         ...                  ...               ...   \n",
       "98047                         2                    7                 3   \n",
       "98048                         2                    4                 5   \n",
       "98049                         1                    7                 1   \n",
       "98050                         2                    7                10   \n",
       "98051                         1                    7                 6   \n",
       "\n",
       "       num_lab_procedures  num_procedures  num_medications  ...  repaglinide  \\\n",
       "0                      59               0               18  ...            0   \n",
       "1                      11               5               13  ...            0   \n",
       "2                      44               1               16  ...            0   \n",
       "3                      51               0                8  ...            0   \n",
       "4                      31               6               16  ...            0   \n",
       "...                   ...             ...              ...  ...          ...   \n",
       "98047                  51               0               16  ...            0   \n",
       "98048                  33               3               18  ...            0   \n",
       "98049                  53               0                9  ...            0   \n",
       "98050                  45               2               21  ...            0   \n",
       "98051                  13               3                3  ...            0   \n",
       "\n",
       "       glimepiride  glipizide glyburide pioglitazone rosiglitazone  insulin  \\\n",
       "0                0          0         0            0             0        1   \n",
       "1                0          1         0            0             0        0   \n",
       "2                0          0         0            0             0        1   \n",
       "3                0          1         0            0             0        1   \n",
       "4                0          0         0            0             0        1   \n",
       "...            ...        ...       ...          ...           ...      ...   \n",
       "98047            0          0         0            0             0        1   \n",
       "98048            0          0         0            0             0        1   \n",
       "98049            0          0         0            0             0        1   \n",
       "98050            0          1         0            1             0        1   \n",
       "98051            0          0         0            0             0        0   \n",
       "\n",
       "       change  diabetesMed  readmitted  \n",
       "0          Ch          Yes           0  \n",
       "1          No          Yes           0  \n",
       "2          Ch          Yes           0  \n",
       "3          Ch          Yes           0  \n",
       "4          No          Yes           0  \n",
       "...       ...          ...         ...  \n",
       "98047      Ch          Yes           0  \n",
       "98048      No          Yes           0  \n",
       "98049      Ch          Yes           0  \n",
       "98050      Ch          Yes           0  \n",
       "98051      No           No           0  \n",
       "\n",
       "[98052 rows x 30 columns]"
      ]
     },
     "execution_count": 42,
     "metadata": {},
     "output_type": "execute_result"
    }
   ],
   "source": [
    "data.reset_index(drop=True)"
   ]
  },
  {
   "cell_type": "code",
   "execution_count": 43,
   "id": "e96f80d9",
   "metadata": {},
   "outputs": [
    {
     "data": {
      "text/html": [
       "<div>\n",
       "<style scoped>\n",
       "    .dataframe tbody tr th:only-of-type {\n",
       "        vertical-align: middle;\n",
       "    }\n",
       "\n",
       "    .dataframe tbody tr th {\n",
       "        vertical-align: top;\n",
       "    }\n",
       "\n",
       "    .dataframe thead th {\n",
       "        text-align: right;\n",
       "    }\n",
       "</style>\n",
       "<table border=\"1\" class=\"dataframe\">\n",
       "  <thead>\n",
       "    <tr style=\"text-align: right;\">\n",
       "      <th></th>\n",
       "      <th>age</th>\n",
       "      <th>admission_type_id</th>\n",
       "      <th>discharge_disposition_id</th>\n",
       "      <th>admission_source_id</th>\n",
       "      <th>time_in_hospital</th>\n",
       "      <th>num_lab_procedures</th>\n",
       "      <th>num_procedures</th>\n",
       "      <th>num_medications</th>\n",
       "      <th>number_outpatient</th>\n",
       "      <th>number_emergency</th>\n",
       "      <th>...</th>\n",
       "      <th>A1Cresult</th>\n",
       "      <th>metformin</th>\n",
       "      <th>repaglinide</th>\n",
       "      <th>glimepiride</th>\n",
       "      <th>glipizide</th>\n",
       "      <th>glyburide</th>\n",
       "      <th>pioglitazone</th>\n",
       "      <th>rosiglitazone</th>\n",
       "      <th>insulin</th>\n",
       "      <th>readmitted</th>\n",
       "    </tr>\n",
       "  </thead>\n",
       "  <tbody>\n",
       "    <tr>\n",
       "      <th>count</th>\n",
       "      <td>98052.000000</td>\n",
       "      <td>98052.000000</td>\n",
       "      <td>98052.000000</td>\n",
       "      <td>98052.000000</td>\n",
       "      <td>98052.000000</td>\n",
       "      <td>98052.000000</td>\n",
       "      <td>98052.000000</td>\n",
       "      <td>98052.000000</td>\n",
       "      <td>98052.000000</td>\n",
       "      <td>98052.000000</td>\n",
       "      <td>...</td>\n",
       "      <td>98052.000000</td>\n",
       "      <td>98052.000000</td>\n",
       "      <td>98052.000000</td>\n",
       "      <td>98052.000000</td>\n",
       "      <td>98052.000000</td>\n",
       "      <td>98052.000000</td>\n",
       "      <td>98052.000000</td>\n",
       "      <td>98052.000000</td>\n",
       "      <td>98052.000000</td>\n",
       "      <td>98052.000000</td>\n",
       "    </tr>\n",
       "    <tr>\n",
       "      <th>mean</th>\n",
       "      <td>66.260250</td>\n",
       "      <td>1.783747</td>\n",
       "      <td>2.248144</td>\n",
       "      <td>5.155591</td>\n",
       "      <td>4.422011</td>\n",
       "      <td>43.148462</td>\n",
       "      <td>1.350712</td>\n",
       "      <td>16.119590</td>\n",
       "      <td>0.376382</td>\n",
       "      <td>0.202464</td>\n",
       "      <td>...</td>\n",
       "      <td>-82.534798</td>\n",
       "      <td>0.196273</td>\n",
       "      <td>0.015533</td>\n",
       "      <td>0.050861</td>\n",
       "      <td>0.125270</td>\n",
       "      <td>0.104649</td>\n",
       "      <td>0.072380</td>\n",
       "      <td>0.062885</td>\n",
       "      <td>0.531453</td>\n",
       "      <td>0.112858</td>\n",
       "    </tr>\n",
       "    <tr>\n",
       "      <th>std</th>\n",
       "      <td>15.590805</td>\n",
       "      <td>1.333516</td>\n",
       "      <td>3.889258</td>\n",
       "      <td>2.873250</td>\n",
       "      <td>2.993070</td>\n",
       "      <td>19.711757</td>\n",
       "      <td>1.708475</td>\n",
       "      <td>8.108496</td>\n",
       "      <td>1.283365</td>\n",
       "      <td>0.942897</td>\n",
       "      <td>...</td>\n",
       "      <td>37.020675</td>\n",
       "      <td>0.397180</td>\n",
       "      <td>0.123659</td>\n",
       "      <td>0.219714</td>\n",
       "      <td>0.331027</td>\n",
       "      <td>0.306102</td>\n",
       "      <td>0.259117</td>\n",
       "      <td>0.242757</td>\n",
       "      <td>0.499012</td>\n",
       "      <td>0.316421</td>\n",
       "    </tr>\n",
       "    <tr>\n",
       "      <th>min</th>\n",
       "      <td>5.000000</td>\n",
       "      <td>1.000000</td>\n",
       "      <td>1.000000</td>\n",
       "      <td>1.000000</td>\n",
       "      <td>1.000000</td>\n",
       "      <td>1.000000</td>\n",
       "      <td>0.000000</td>\n",
       "      <td>1.000000</td>\n",
       "      <td>0.000000</td>\n",
       "      <td>0.000000</td>\n",
       "      <td>...</td>\n",
       "      <td>-99.000000</td>\n",
       "      <td>0.000000</td>\n",
       "      <td>0.000000</td>\n",
       "      <td>0.000000</td>\n",
       "      <td>0.000000</td>\n",
       "      <td>0.000000</td>\n",
       "      <td>0.000000</td>\n",
       "      <td>0.000000</td>\n",
       "      <td>0.000000</td>\n",
       "      <td>0.000000</td>\n",
       "    </tr>\n",
       "    <tr>\n",
       "      <th>25%</th>\n",
       "      <td>55.000000</td>\n",
       "      <td>1.000000</td>\n",
       "      <td>1.000000</td>\n",
       "      <td>1.000000</td>\n",
       "      <td>2.000000</td>\n",
       "      <td>31.000000</td>\n",
       "      <td>0.000000</td>\n",
       "      <td>11.000000</td>\n",
       "      <td>0.000000</td>\n",
       "      <td>0.000000</td>\n",
       "      <td>...</td>\n",
       "      <td>-99.000000</td>\n",
       "      <td>0.000000</td>\n",
       "      <td>0.000000</td>\n",
       "      <td>0.000000</td>\n",
       "      <td>0.000000</td>\n",
       "      <td>0.000000</td>\n",
       "      <td>0.000000</td>\n",
       "      <td>0.000000</td>\n",
       "      <td>0.000000</td>\n",
       "      <td>0.000000</td>\n",
       "    </tr>\n",
       "    <tr>\n",
       "      <th>50%</th>\n",
       "      <td>65.000000</td>\n",
       "      <td>1.000000</td>\n",
       "      <td>1.000000</td>\n",
       "      <td>7.000000</td>\n",
       "      <td>4.000000</td>\n",
       "      <td>44.000000</td>\n",
       "      <td>1.000000</td>\n",
       "      <td>15.000000</td>\n",
       "      <td>0.000000</td>\n",
       "      <td>0.000000</td>\n",
       "      <td>...</td>\n",
       "      <td>-99.000000</td>\n",
       "      <td>0.000000</td>\n",
       "      <td>0.000000</td>\n",
       "      <td>0.000000</td>\n",
       "      <td>0.000000</td>\n",
       "      <td>0.000000</td>\n",
       "      <td>0.000000</td>\n",
       "      <td>0.000000</td>\n",
       "      <td>1.000000</td>\n",
       "      <td>0.000000</td>\n",
       "    </tr>\n",
       "    <tr>\n",
       "      <th>75%</th>\n",
       "      <td>75.000000</td>\n",
       "      <td>3.000000</td>\n",
       "      <td>2.000000</td>\n",
       "      <td>7.000000</td>\n",
       "      <td>6.000000</td>\n",
       "      <td>57.000000</td>\n",
       "      <td>2.000000</td>\n",
       "      <td>20.000000</td>\n",
       "      <td>0.000000</td>\n",
       "      <td>0.000000</td>\n",
       "      <td>...</td>\n",
       "      <td>-99.000000</td>\n",
       "      <td>0.000000</td>\n",
       "      <td>0.000000</td>\n",
       "      <td>0.000000</td>\n",
       "      <td>0.000000</td>\n",
       "      <td>0.000000</td>\n",
       "      <td>0.000000</td>\n",
       "      <td>0.000000</td>\n",
       "      <td>1.000000</td>\n",
       "      <td>0.000000</td>\n",
       "    </tr>\n",
       "    <tr>\n",
       "      <th>max</th>\n",
       "      <td>95.000000</td>\n",
       "      <td>5.000000</td>\n",
       "      <td>28.000000</td>\n",
       "      <td>11.000000</td>\n",
       "      <td>14.000000</td>\n",
       "      <td>132.000000</td>\n",
       "      <td>6.000000</td>\n",
       "      <td>81.000000</td>\n",
       "      <td>42.000000</td>\n",
       "      <td>76.000000</td>\n",
       "      <td>...</td>\n",
       "      <td>1.000000</td>\n",
       "      <td>1.000000</td>\n",
       "      <td>1.000000</td>\n",
       "      <td>1.000000</td>\n",
       "      <td>1.000000</td>\n",
       "      <td>1.000000</td>\n",
       "      <td>1.000000</td>\n",
       "      <td>1.000000</td>\n",
       "      <td>1.000000</td>\n",
       "      <td>1.000000</td>\n",
       "    </tr>\n",
       "  </tbody>\n",
       "</table>\n",
       "<p>8 rows × 23 columns</p>\n",
       "</div>"
      ],
      "text/plain": [
       "                age  admission_type_id  discharge_disposition_id  \\\n",
       "count  98052.000000       98052.000000              98052.000000   \n",
       "mean      66.260250           1.783747                  2.248144   \n",
       "std       15.590805           1.333516                  3.889258   \n",
       "min        5.000000           1.000000                  1.000000   \n",
       "25%       55.000000           1.000000                  1.000000   \n",
       "50%       65.000000           1.000000                  1.000000   \n",
       "75%       75.000000           3.000000                  2.000000   \n",
       "max       95.000000           5.000000                 28.000000   \n",
       "\n",
       "       admission_source_id  time_in_hospital  num_lab_procedures  \\\n",
       "count         98052.000000      98052.000000        98052.000000   \n",
       "mean              5.155591          4.422011           43.148462   \n",
       "std               2.873250          2.993070           19.711757   \n",
       "min               1.000000          1.000000            1.000000   \n",
       "25%               1.000000          2.000000           31.000000   \n",
       "50%               7.000000          4.000000           44.000000   \n",
       "75%               7.000000          6.000000           57.000000   \n",
       "max              11.000000         14.000000          132.000000   \n",
       "\n",
       "       num_procedures  num_medications  number_outpatient  number_emergency  \\\n",
       "count    98052.000000     98052.000000       98052.000000      98052.000000   \n",
       "mean         1.350712        16.119590           0.376382          0.202464   \n",
       "std          1.708475         8.108496           1.283365          0.942897   \n",
       "min          0.000000         1.000000           0.000000          0.000000   \n",
       "25%          0.000000        11.000000           0.000000          0.000000   \n",
       "50%          1.000000        15.000000           0.000000          0.000000   \n",
       "75%          2.000000        20.000000           0.000000          0.000000   \n",
       "max          6.000000        81.000000          42.000000         76.000000   \n",
       "\n",
       "       ...     A1Cresult     metformin   repaglinide   glimepiride  \\\n",
       "count  ...  98052.000000  98052.000000  98052.000000  98052.000000   \n",
       "mean   ...    -82.534798      0.196273      0.015533      0.050861   \n",
       "std    ...     37.020675      0.397180      0.123659      0.219714   \n",
       "min    ...    -99.000000      0.000000      0.000000      0.000000   \n",
       "25%    ...    -99.000000      0.000000      0.000000      0.000000   \n",
       "50%    ...    -99.000000      0.000000      0.000000      0.000000   \n",
       "75%    ...    -99.000000      0.000000      0.000000      0.000000   \n",
       "max    ...      1.000000      1.000000      1.000000      1.000000   \n",
       "\n",
       "          glipizide     glyburide  pioglitazone  rosiglitazone       insulin  \\\n",
       "count  98052.000000  98052.000000  98052.000000   98052.000000  98052.000000   \n",
       "mean       0.125270      0.104649      0.072380       0.062885      0.531453   \n",
       "std        0.331027      0.306102      0.259117       0.242757      0.499012   \n",
       "min        0.000000      0.000000      0.000000       0.000000      0.000000   \n",
       "25%        0.000000      0.000000      0.000000       0.000000      0.000000   \n",
       "50%        0.000000      0.000000      0.000000       0.000000      1.000000   \n",
       "75%        0.000000      0.000000      0.000000       0.000000      1.000000   \n",
       "max        1.000000      1.000000      1.000000       1.000000      1.000000   \n",
       "\n",
       "         readmitted  \n",
       "count  98052.000000  \n",
       "mean       0.112858  \n",
       "std        0.316421  \n",
       "min        0.000000  \n",
       "25%        0.000000  \n",
       "50%        0.000000  \n",
       "75%        0.000000  \n",
       "max        1.000000  \n",
       "\n",
       "[8 rows x 23 columns]"
      ]
     },
     "execution_count": 43,
     "metadata": {},
     "output_type": "execute_result"
    }
   ],
   "source": [
    "data.describe()"
   ]
  },
  {
   "cell_type": "markdown",
   "id": "6c9cb661",
   "metadata": {},
   "source": [
    "divide our data into features and target"
   ]
  },
  {
   "cell_type": "code",
   "execution_count": 44,
   "id": "b49879da",
   "metadata": {},
   "outputs": [],
   "source": [
    "X = data.drop('readmitted', axis = 1)\n",
    "y = data['readmitted']"
   ]
  },
  {
   "cell_type": "markdown",
   "id": "3b4c8379",
   "metadata": {},
   "source": [
    "The next step is to apply ordinal encoding technique on categorical features. \n",
    "For that purpose, we will be using ColumnTransformer()."
   ]
  },
  {
   "cell_type": "code",
   "execution_count": 45,
   "id": "f488f78f",
   "metadata": {},
   "outputs": [],
   "source": [
    "from sklearn.compose import ColumnTransformer\n",
    "from sklearn.preprocessing import OrdinalEncoder"
   ]
  },
  {
   "cell_type": "code",
   "execution_count": 46,
   "id": "60ff77b1",
   "metadata": {},
   "outputs": [],
   "source": [
    "ct =  ColumnTransformer([('oe',OrdinalEncoder(),['diag_1','diag_2','diag_3','race','change','gender','diabetesMed'])]\n",
    "                        ,remainder='passthrough')"
   ]
  },
  {
   "cell_type": "code",
   "execution_count": 47,
   "id": "fd23f4fa",
   "metadata": {},
   "outputs": [],
   "source": [
    "X = ct.fit_transform(X)"
   ]
  },
  {
   "cell_type": "code",
   "execution_count": 48,
   "id": "0b0cb4b7",
   "metadata": {},
   "outputs": [
    {
     "data": {
      "text/plain": [
       "array([[7., 1., 7., ..., 0., 0., 1.],\n",
       "       [7., 1., 7., ..., 0., 0., 0.],\n",
       "       [7., 1., 0., ..., 0., 0., 1.],\n",
       "       ...,\n",
       "       [7., 3., 7., ..., 0., 0., 1.],\n",
       "       [4., 7., 4., ..., 1., 0., 1.],\n",
       "       [2., 2., 2., ..., 0., 0., 0.]])"
      ]
     },
     "execution_count": 48,
     "metadata": {},
     "output_type": "execute_result"
    }
   ],
   "source": [
    "X\n"
   ]
  },
  {
   "cell_type": "markdown",
   "id": "0989344b",
   "metadata": {},
   "source": [
    "Splitting Data Into Train And Test Sets"
   ]
  },
  {
   "cell_type": "code",
   "execution_count": 49,
   "id": "c881a195",
   "metadata": {},
   "outputs": [],
   "source": [
    "from sklearn.model_selection import train_test_split\n",
    "X_train, X_test, y_train, y_test = train_test_split(X, y,\n",
    "                                                    stratify=y, \n",
    "                                                    test_size=0.3,random_state=20)"
   ]
  },
  {
   "cell_type": "code",
   "execution_count": 50,
   "id": "791de47f",
   "metadata": {},
   "outputs": [
    {
     "data": {
      "text/plain": [
       "((68636, 29), (29416, 29), (68636,), (29416,))"
      ]
     },
     "execution_count": 50,
     "metadata": {},
     "output_type": "execute_result"
    }
   ],
   "source": [
    "X_train.shape, X_test.shape, y_train.shape, y_test.shape"
   ]
  },
  {
   "cell_type": "markdown",
   "id": "2448ebb8",
   "metadata": {},
   "source": [
    "Sampling Data"
   ]
  },
  {
   "cell_type": "code",
   "execution_count": 51,
   "id": "76b43af4",
   "metadata": {},
   "outputs": [],
   "source": [
    "from imblearn.over_sampling import SMOTE"
   ]
  },
  {
   "cell_type": "code",
   "execution_count": 52,
   "id": "3e30fc19",
   "metadata": {},
   "outputs": [],
   "source": [
    "sm = SMOTE(random_state = 20)\n",
    "X1_res, y1_res = sm.fit_resample(X_train,y_train)"
   ]
  },
  {
   "cell_type": "code",
   "execution_count": 53,
   "id": "c7274255",
   "metadata": {},
   "outputs": [],
   "source": [
    "X1_res = np.array(X1_res)"
   ]
  },
  {
   "cell_type": "code",
   "execution_count": 54,
   "id": "26e52f49",
   "metadata": {},
   "outputs": [],
   "source": [
    "y1_res = np.array(y1_res)"
   ]
  },
  {
   "cell_type": "code",
   "execution_count": 55,
   "id": "930b129c",
   "metadata": {},
   "outputs": [],
   "source": [
    "\n",
    "X_train, X_val, y_train, y_val = train_test_split(X1_res,y1_res,test_size=0.3, random_state=20)"
   ]
  },
  {
   "cell_type": "code",
   "execution_count": 56,
   "id": "4dd99db1",
   "metadata": {},
   "outputs": [
    {
     "data": {
      "text/plain": [
       "((85246, 29), (36534, 29), (85246,), (36534,))"
      ]
     },
     "execution_count": 56,
     "metadata": {},
     "output_type": "execute_result"
    }
   ],
   "source": [
    "X_train.shape, X_val.shape, y_train.shape, y_val.shape"
   ]
  },
  {
   "cell_type": "markdown",
   "id": "d6fdef5a",
   "metadata": {},
   "source": [
    "Comparing Performance Of Various Models"
   ]
  },
  {
   "cell_type": "code",
   "execution_count": 57,
   "id": "bd206aab",
   "metadata": {},
   "outputs": [],
   "source": [
    "from sklearn.linear_model import LogisticRegression\n",
    "from sklearn.tree import DecisionTreeClassifier\n",
    "from sklearn.neighbors import KNeighborsClassifier\n",
    "from sklearn.ensemble import RandomForestClassifier, AdaBoostClassifier, GradientBoostingClassifier\n",
    "from xgboost.sklearn import XGBClassifier\n",
    "from sklearn import metrics\n",
    "from sklearn.metrics import accuracy_score, roc_curve, confusion_matrix, classification_report, auc"
   ]
  },
  {
   "cell_type": "code",
   "execution_count": 58,
   "id": "d7ccd237",
   "metadata": {},
   "outputs": [],
   "source": [
    "#Creating a dictionary of all models\n",
    "model_dict = {}\n",
    "\n",
    "model_dict['Logistic regression']= LogisticRegression(solver='liblinear',random_state=20)\n",
    "model_dict['KNN Classifier'] = KNeighborsClassifier()\n",
    "model_dict['Decision Tree Classifier'] = DecisionTreeClassifier(random_state=20)\n",
    "model_dict['Random Forest Classifier'] = RandomForestClassifier(random_state=20)\n",
    "model_dict['AdaBoost Classifier'] = AdaBoostClassifier(random_state=20)\n",
    "model_dict['Gradient Boosting Classifier'] = GradientBoostingClassifier(random_state=20)\n"
   ]
  },
  {
   "cell_type": "code",
   "execution_count": 59,
   "id": "451cecca",
   "metadata": {},
   "outputs": [],
   "source": [
    "#function to print accuracy of all models\n",
    "def model_test(X_train, X_test, y_train, y_test,model,model_name):\n",
    "    model.fit(X_train,y_train)\n",
    "    y_pred = model.predict(X_test) \n",
    "    accuracy = accuracy_score(y_test,y_pred)\n",
    "    print('======================================{}======================================='.format(model_name))\n",
    "    print('Score is : {}'.format(accuracy))\n",
    "    \n",
    "    print()"
   ]
  },
  {
   "cell_type": "code",
   "execution_count": 60,
   "id": "670b4d25",
   "metadata": {},
   "outputs": [
    {
     "name": "stdout",
     "output_type": "stream",
     "text": [
      "======================================Logistic regression=======================================\n",
      "Score is : 0.6002080254009964\n",
      "\n",
      "======================================KNN Classifier=======================================\n",
      "Score is : 0.7935621612744292\n",
      "\n",
      "======================================Decision Tree Classifier=======================================\n",
      "Score is : 0.8801664203207971\n",
      "\n",
      "======================================Random Forest Classifier=======================================\n",
      "Score is : 0.938632506706082\n",
      "\n",
      "======================================AdaBoost Classifier=======================================\n",
      "Score is : 0.9139158044561231\n",
      "\n",
      "======================================Gradient Boosting Classifier=======================================\n",
      "Score is : 0.9317621941205453\n",
      "\n"
     ]
    }
   ],
   "source": [
    "for model_name,model in model_dict.items():\n",
    "    model_test(X_train, X_val, y_train, y_val, model, model_name)"
   ]
  },
  {
   "cell_type": "markdown",
   "id": "2c512de8",
   "metadata": {},
   "source": [
    " test accuracies"
   ]
  },
  {
   "cell_type": "code",
   "execution_count": 61,
   "id": "7b370680",
   "metadata": {},
   "outputs": [
    {
     "name": "stdout",
     "output_type": "stream",
     "text": [
      "Testing accuracy of  Logistic regression = 0.6484226271416916\n",
      "Testing accuracy of  KNN Classifier = 0.5848517813434866\n",
      "Testing accuracy of  Decision Tree Classifier = 0.7861028011966277\n",
      "Testing accuracy of  Random Forest Classifier = 0.8871702474843622\n",
      "Testing accuracy of  AdaBoost Classifier = 0.8744220832200164\n",
      "Testing accuracy of  Gradient Boosting Classifier = 0.8873742181125918\n"
     ]
    }
   ],
   "source": [
    "for model_name, model in model_dict.items():\n",
    "    p = model.predict(X_test)\n",
    "    print('Testing accuracy of ',model_name,'=',accuracy_score(y_test,p))"
   ]
  },
  {
   "cell_type": "markdown",
   "id": "9ce18714",
   "metadata": {},
   "source": [
    "From the above results, it is clear that Random Forest Classifier provides the best accuracy. \n",
    "So let us create a different variable to fit and make predictions using the model."
   ]
  },
  {
   "cell_type": "code",
   "execution_count": 62,
   "id": "af13ffd7",
   "metadata": {},
   "outputs": [
    {
     "name": "stdout",
     "output_type": "stream",
     "text": [
      "Training Accuracy of Random Forest= 0.938632506706082\n"
     ]
    }
   ],
   "source": [
    "#Fitting data to Random Forest classifier\n",
    "rfc = RandomForestClassifier(random_state=20)\n",
    "rfc.fit(X_train,y_train)\n",
    "pred_rfc = rfc.predict(X_val)\n",
    "print('Training Accuracy of Random Forest=',accuracy_score(y_val,pred_rfc))"
   ]
  },
  {
   "cell_type": "code",
   "execution_count": 63,
   "id": "c88f6191",
   "metadata": {},
   "outputs": [],
   "source": [
    "cols = list(data.columns)\n",
    "cols.remove('readmitted')"
   ]
  },
  {
   "cell_type": "markdown",
   "id": "b21424aa",
   "metadata": {},
   "source": [
    "Feature Selection"
   ]
  },
  {
   "cell_type": "code",
   "execution_count": 64,
   "id": "656c92fa",
   "metadata": {},
   "outputs": [
    {
     "name": "stdout",
     "output_type": "stream",
     "text": [
      "Feature: 0, Score: 0.02612\n",
      "Feature: 1, Score: 0.02665\n",
      "Feature: 2, Score: 0.02879\n",
      "Feature: 3, Score: 0.02301\n",
      "Feature: 4, Score: 0.07155\n",
      "Feature: 5, Score: 0.08739\n",
      "Feature: 6, Score: 0.05176\n",
      "Feature: 7, Score: 0.02156\n",
      "Feature: 8, Score: 0.01079\n",
      "Feature: 9, Score: 0.07860\n",
      "Feature: 10, Score: 0.01159\n",
      "Feature: 11, Score: 0.03947\n",
      "Feature: 12, Score: 0.03854\n",
      "Feature: 13, Score: 0.03565\n",
      "Feature: 14, Score: 0.03560\n",
      "Feature: 15, Score: 0.01888\n",
      "Feature: 16, Score: 0.02385\n",
      "Feature: 17, Score: 0.14236\n",
      "Feature: 18, Score: 0.02681\n",
      "Feature: 19, Score: 0.00295\n",
      "Feature: 20, Score: 0.00651\n",
      "Feature: 21, Score: 0.05393\n",
      "Feature: 22, Score: 0.00209\n",
      "Feature: 23, Score: 0.00441\n",
      "Feature: 24, Score: 0.02454\n",
      "Feature: 25, Score: 0.01401\n",
      "Feature: 26, Score: 0.00689\n",
      "Feature: 27, Score: 0.00687\n",
      "Feature: 28, Score: 0.07883\n",
      "['race', 'gender', 'age', 'admission_type_id', 'discharge_disposition_id', 'admission_source_id', 'time_in_hospital', 'num_lab_procedures', 'num_procedures', 'num_medications', 'number_outpatient', 'number_emergency', 'number_inpatient', 'diag_1', 'diag_2', 'diag_3', 'number_diagnoses', 'max_glu_serum', 'A1Cresult', 'metformin', 'repaglinide', 'glimepiride', 'glipizide', 'glyburide', 'pioglitazone', 'rosiglitazone', 'insulin', 'change', 'diabetesMed']\n"
     ]
    },
    {
     "data": {
      "image/png": "[encoded data removed]",
      "text/plain": [
       "<Figure size 1080x720 with 1 Axes>"
      ]
     },
     "metadata": {
      "needs_background": "light"
     },
     "output_type": "display_data"
    }
   ],
   "source": [
    "importance = rfc.feature_importances_\n",
    "# summarize feature importance\n",
    "for i,v in enumerate(importance):\n",
    "    print('Feature: %0d, Score: %.5f' % (i,v))\n",
    "# plot feature importance\n",
    "print(cols)\n",
    "plt.figure(figsize=(15,10))\n",
    "plt.bar([cols[x] for x in range(len(importance))], importance)\n",
    "plt.xticks(rotation=90)\n",
    "plt.show()"
   ]
  },
  {
   "cell_type": "code",
   "execution_count": 65,
   "id": "27afbefe",
   "metadata": {},
   "outputs": [
    {
     "name": "stdout",
     "output_type": "stream",
     "text": [
      "Testing Accuracy of Random Forest:  0.8871702474843622\n"
     ]
    }
   ],
   "source": [
    "p = rfc.predict(X_test)\n",
    "print('Testing Accuracy of Random Forest: ',accuracy_score(y_test,p))"
   ]
  },
  {
   "cell_type": "code",
   "execution_count": 66,
   "id": "ad154b01",
   "metadata": {},
   "outputs": [],
   "source": [
    "#rfc.predict([[  8.,   1.,   1.,   1.,   7.,   4.,  24.,   0.,   4.,   1.,   0.]])"
   ]
  },
  {
   "cell_type": "markdown",
   "id": "786e1056",
   "metadata": {},
   "source": [
    "Let us print the columns that are important for model performance"
   ]
  },
  {
   "cell_type": "code",
   "execution_count": 67,
   "id": "947ac2ed",
   "metadata": {},
   "outputs": [],
   "source": [
    "imp_cols = []\n",
    "for i,v in enumerate(importance):\n",
    "    if (v>0.035):\n",
    "        imp_cols.append(cols[i])"
   ]
  },
  {
   "cell_type": "code",
   "execution_count": 68,
   "id": "1922283b",
   "metadata": {},
   "outputs": [
    {
     "data": {
      "text/plain": [
       "['discharge_disposition_id',\n",
       " 'admission_source_id',\n",
       " 'time_in_hospital',\n",
       " 'num_medications',\n",
       " 'number_emergency',\n",
       " 'number_inpatient',\n",
       " 'diag_1',\n",
       " 'diag_2',\n",
       " 'max_glu_serum',\n",
       " 'glimepiride',\n",
       " 'diabetesMed']"
      ]
     },
     "execution_count": 68,
     "metadata": {},
     "output_type": "execute_result"
    }
   ],
   "source": [
    "imp_cols"
   ]
  },
  {
   "cell_type": "code",
   "execution_count": 69,
   "id": "4a2a9337",
   "metadata": {},
   "outputs": [],
   "source": [
    "final_data = data[imp_cols+['readmitted']].copy()"
   ]
  },
  {
   "cell_type": "code",
   "execution_count": 70,
   "id": "58cb651c",
   "metadata": {},
   "outputs": [
    {
     "data": {
      "text/plain": [
       "(98052, 12)"
      ]
     },
     "execution_count": 70,
     "metadata": {},
     "output_type": "execute_result"
    }
   ],
   "source": [
    "final_data.shape"
   ]
  },
  {
   "cell_type": "markdown",
   "id": "3813e373",
   "metadata": {},
   "source": [
    "Repeat Process From Dividing Data Into Train And Test Sets"
   ]
  },
  {
   "cell_type": "code",
   "execution_count": 71,
   "id": "866ca68d",
   "metadata": {},
   "outputs": [],
   "source": [
    "X1 = final_data.drop('readmitted', axis = 1)\n",
    "y1 = final_data['readmitted']"
   ]
  },
  {
   "cell_type": "code",
   "execution_count": 72,
   "id": "6b7f4df5",
   "metadata": {},
   "outputs": [],
   "source": [
    "ct =  ColumnTransformer([('oe',OrdinalEncoder(),['diag_1','diag_2','diabetesMed'])]\n",
    "                        ,remainder='passthrough')"
   ]
  },
  {
   "cell_type": "code",
   "execution_count": 73,
   "id": "50d249b2",
   "metadata": {},
   "outputs": [],
   "source": [
    "X1 = ct.fit_transform(X1)"
   ]
  },
  {
   "cell_type": "code",
   "execution_count": 74,
   "id": "01d0f98e",
   "metadata": {},
   "outputs": [
    {
     "data": {
      "text/plain": [
       "((98052, 11), (98052,))"
      ]
     },
     "execution_count": 74,
     "metadata": {},
     "output_type": "execute_result"
    }
   ],
   "source": [
    "X1.shape, y1.shape"
   ]
  },
  {
   "cell_type": "code",
   "execution_count": 75,
   "id": "86a33eaf",
   "metadata": {},
   "outputs": [],
   "source": [
    "X_train, X_test, y_train, y_test = train_test_split(X1, y1,\n",
    "                                                    stratify=y1, \n",
    "                                                    test_size=0.3, random_state=20)"
   ]
  },
  {
   "cell_type": "code",
   "execution_count": 76,
   "id": "58cd0c43",
   "metadata": {},
   "outputs": [
    {
     "data": {
      "text/plain": [
       "((68636, 11), (29416, 11), (68636,), (29416,))"
      ]
     },
     "execution_count": 76,
     "metadata": {},
     "output_type": "execute_result"
    }
   ],
   "source": [
    "X_train.shape, X_test.shape, y_train.shape, y_test.shape"
   ]
  },
  {
   "cell_type": "code",
   "execution_count": 77,
   "id": "a6499da4",
   "metadata": {},
   "outputs": [
    {
     "data": {
      "text/plain": [
       "array([[  7.,   3.,   1.,   2.,   7.,   9.,  22.,   0.,   0., -99.,   0.],\n",
       "       [  2.,   8.,   1.,   1.,   7.,   8.,  19.,   0.,   1., -99.,   0.],\n",
       "       [  0.,   0.,   1.,   1.,   7.,   2.,  20.,   0.,   0., -99.,   0.],\n",
       "       [  8.,   1.,   1.,   1.,   7.,   4.,  24.,   0.,   4.,   1.,   0.],\n",
       "       [  0.,   0.,   1.,   1.,   7.,   3.,  18.,   0.,   2., -99.,   0.],\n",
       "       [  4.,   3.,   1.,   1.,   7.,   6.,  10.,   0.,   0., -99.,   0.],\n",
       "       [  8.,   2.,   1.,   1.,   7.,   1.,  14.,   0.,   0., -99.,   0.],\n",
       "       [  3.,   0.,   1.,   1.,   7.,   4.,  14.,   0.,   1., -99.,   0.],\n",
       "       [  8.,   8.,   0.,   1.,   1.,   5.,  24.,   0.,   0., -99.,   0.],\n",
       "       [  0.,   0.,   0.,   1.,   1.,   1.,  13.,   0.,   0., -99.,   0.],\n",
       "       [  0.,   0.,   1.,  18.,   1.,   4.,  36.,   0.,   0., -99.,   0.],\n",
       "       [  7.,   7.,   1.,  11.,   7.,   2.,  11.,   0.,   0., -99.,   0.],\n",
       "       [  8.,   8.,   0.,   2.,   7.,   6.,  14.,   0.,   0., -99.,   0.],\n",
       "       [  7.,   8.,   1.,   2.,   1.,   7.,  26.,   0.,   0., -99.,   0.],\n",
       "       [  7.,   0.,   0.,   2.,   7.,   3.,   7.,   0.,   0., -99.,   0.],\n",
       "       [  2.,   0.,   1.,   1.,   1.,   2.,  12.,   0.,   0., -99.,   0.],\n",
       "       [  2.,   0.,   1.,   2.,   7.,  12.,  21.,   0.,   4., -99.,   0.],\n",
       "       [  2.,   7.,   0.,   2.,   7.,   5.,  18.,   1.,   3., -99.,   0.],\n",
       "       [  7.,   1.,   1.,   1.,   1.,   9.,   9.,   0.,   2., -99.,   0.],\n",
       "       [  1.,   2.,   1.,   1.,   7.,   3.,   7.,   0.,   0., -99.,   0.]])"
      ]
     },
     "execution_count": 77,
     "metadata": {},
     "output_type": "execute_result"
    }
   ],
   "source": [
    "X_test[20:40]"
   ]
  },
  {
   "cell_type": "code",
   "execution_count": 78,
   "id": "2517a0b4",
   "metadata": {},
   "outputs": [
    {
     "data": {
      "text/plain": [
       "78906    0\n",
       "11137    0\n",
       "72049    0\n",
       "68519    1\n",
       "40887    0\n",
       "26564    0\n",
       "45104    0\n",
       "71384    1\n",
       "96221    0\n",
       "38217    0\n",
       "16560    0\n",
       "11887    0\n",
       "47468    0\n",
       "50327    0\n",
       "11943    0\n",
       "44765    1\n",
       "89439    0\n",
       "68035    0\n",
       "71002    0\n",
       "30218    0\n",
       "Name: readmitted, dtype: int64"
      ]
     },
     "execution_count": 78,
     "metadata": {},
     "output_type": "execute_result"
    }
   ],
   "source": [
    "y_test[20:40]"
   ]
  },
  {
   "cell_type": "code",
   "execution_count": 79,
   "id": "45216f6c",
   "metadata": {},
   "outputs": [],
   "source": [
    "from imblearn.over_sampling import SMOTE"
   ]
  },
  {
   "cell_type": "code",
   "execution_count": 80,
   "id": "568b21d8",
   "metadata": {},
   "outputs": [],
   "source": [
    "sm = SMOTE(random_state = 20)\n",
    "X1_res, y1_res = sm.fit_resample(X_train, y_train)"
   ]
  },
  {
   "cell_type": "code",
   "execution_count": 81,
   "id": "541877b3",
   "metadata": {},
   "outputs": [],
   "source": [
    "X1_res = np.array(X1_res)"
   ]
  },
  {
   "cell_type": "code",
   "execution_count": 82,
   "id": "294ffce9",
   "metadata": {},
   "outputs": [],
   "source": [
    "y1_res = np.array(y1_res)"
   ]
  },
  {
   "cell_type": "code",
   "execution_count": 83,
   "id": "dcd6329b",
   "metadata": {},
   "outputs": [],
   "source": [
    "X_train, X_val, y_train, y_val = train_test_split(X1_res,y1_res,test_size=0.3, random_state=20)"
   ]
  },
  {
   "cell_type": "code",
   "execution_count": 84,
   "id": "8d29c422",
   "metadata": {},
   "outputs": [
    {
     "data": {
      "text/plain": [
       "((85246, 11), (36534, 11), (85246,), (36534,))"
      ]
     },
     "execution_count": 84,
     "metadata": {},
     "output_type": "execute_result"
    }
   ],
   "source": [
    "X_train.shape, X_val.shape, y_train.shape, y_val.shape"
   ]
  },
  {
   "cell_type": "code",
   "execution_count": 85,
   "id": "3fc736ed",
   "metadata": {},
   "outputs": [
    {
     "name": "stdout",
     "output_type": "stream",
     "text": [
      "======================================Logistic regression=======================================\n",
      "Score is : 0.5861663108337439\n",
      "\n",
      "======================================KNN Classifier=======================================\n",
      "Score is : 0.7962719658400395\n",
      "\n",
      "======================================Decision Tree Classifier=======================================\n",
      "Score is : 0.8781956533639897\n",
      "\n",
      "======================================Random Forest Classifier=======================================\n",
      "Score is : 0.917309903103958\n",
      "\n",
      "======================================AdaBoost Classifier=======================================\n",
      "Score is : 0.8183336070509662\n",
      "\n",
      "======================================Gradient Boosting Classifier=======================================\n",
      "Score is : 0.8846280177369026\n",
      "\n"
     ]
    }
   ],
   "source": [
    "for model_name,model in model_dict.items():\n",
    "    model_test(X_train, X_val, y_train, y_val, model, model_name)"
   ]
  },
  {
   "cell_type": "markdown",
   "id": "fb5c6dc7",
   "metadata": {},
   "source": [
    "Evaluating Final Model Performance"
   ]
  },
  {
   "cell_type": "markdown",
   "id": "403bbeef",
   "metadata": {},
   "source": [
    "Confusion matrix:"
   ]
  },
  {
   "cell_type": "code",
   "execution_count": 86,
   "id": "455eabc2",
   "metadata": {},
   "outputs": [
    {
     "data": {
      "text/plain": [
       "Text(33.0, 0.5, 'Actual')"
      ]
     },
     "execution_count": 86,
     "metadata": {},
     "output_type": "execute_result"
    },
    {
     "data": {
      "image/png": "[encoded data removed]",
      "text/plain": [
       "<Figure size 432x288 with 2 Axes>"
      ]
     },
     "metadata": {
      "needs_background": "light"
     },
     "output_type": "display_data"
    }
   ],
   "source": [
    "#Plotting confusion matrix\n",
    "cf_matrix = confusion_matrix(y_val, pred_rfc)\n",
    "sb.heatmap(cf_matrix/np.sum(cf_matrix), annot=True, fmt='.2%')\n",
    "plt.title('Confusion Matrix of Random Forest Classifier')\n",
    "plt.xlabel('Predicted')\n",
    "plt.ylabel('Actual')"
   ]
  },
  {
   "cell_type": "markdown",
   "id": "e7e05ae6",
   "metadata": {},
   "source": [
    "ROC Curve:"
   ]
  },
  {
   "cell_type": "code",
   "execution_count": 87,
   "id": "2aa078dd",
   "metadata": {},
   "outputs": [
    {
     "data": {
      "image/png": "[encoded data removed]",
      "text/plain": [
       "<Figure size 432x288 with 1 Axes>"
      ]
     },
     "metadata": {
      "needs_background": "light"
     },
     "output_type": "display_data"
    },
    {
     "data": {
      "text/plain": [
       "(array([0.        , 0.00147235, 1.        ]),\n",
       " array([0.        , 0.87826995, 1.        ]),\n",
       " array([2, 1, 0], dtype=int64))"
      ]
     },
     "execution_count": 87,
     "metadata": {},
     "output_type": "execute_result"
    }
   ],
   "source": [
    "#Plotting ROC curve\n",
    "fpr_rfc, tpr_rfc, thresholds_rfc = roc_curve(y_val, pred_rfc)\n",
    "roc_auc_rfc = metrics.auc(fpr_rfc, tpr_rfc)\n",
    "plt.plot(fpr_rfc, tpr_rfc, color='orange', label='ROC curve (area = %0.2f)' % roc_auc_rfc)\n",
    "plt.plot([0, 1], [0, 1], color='blue', linestyle='--')\n",
    "plt.xlim([0.0, 1.0])\n",
    "plt.ylim([0.0, 1.0])\n",
    "plt.title('ROC Curve')\n",
    "plt.xlabel('False Positive Rate (1 - Specificity)')\n",
    "plt.ylabel('True Positive Rate (Sensitivity)')\n",
    "plt.legend(loc=\"lower right\")\n",
    "plt.show()\n",
    "roc_curve(y_val, pred_rfc)"
   ]
  },
  {
   "cell_type": "markdown",
   "id": "10101881",
   "metadata": {},
   "source": [
    "Classification report:"
   ]
  },
  {
   "cell_type": "code",
   "execution_count": 88,
   "id": "cd7ae714",
   "metadata": {},
   "outputs": [
    {
     "name": "stdout",
     "output_type": "stream",
     "text": [
      "              precision    recall  f1-score   support\n",
      "\n",
      "           0       0.89      1.00      0.94     18338\n",
      "           1       1.00      0.88      0.93     18196\n",
      "\n",
      "    accuracy                           0.94     36534\n",
      "   macro avg       0.95      0.94      0.94     36534\n",
      "weighted avg       0.94      0.94      0.94     36534\n",
      "\n"
     ]
    }
   ],
   "source": [
    "print(classification_report(y_val,pred_rfc))"
   ]
  },
  {
   "cell_type": "markdown",
   "id": "44496d51",
   "metadata": {},
   "source": [
    "Saving The Final Model"
   ]
  },
  {
   "cell_type": "code",
   "execution_count": 89,
   "id": "db1248c5",
   "metadata": {},
   "outputs": [],
   "source": [
    "import pickle\n",
    "pickle.dump(rfc,open('model.pkl','wb'))"
   ]
  },
  {
   "cell_type": "code",
   "execution_count": null,
   "id": "e06d5af8",
   "metadata": {},
   "outputs": [],
   "source": []
  },
  {
   "cell_type": "code",
   "execution_count": null,
   "id": "56d7fe2b",
   "metadata": {},
   "outputs": [],
   "source": []
  },
  {
   "cell_type": "code",
   "execution_count": null,
   "id": "b389d977",
   "metadata": {},
   "outputs": [],
   "source": []
  },
  {
   "cell_type": "code",
   "execution_count": null,
   "id": "a176f1f5",
   "metadata": {},
   "outputs": [],
   "source": []
  },
  {
   "cell_type": "code",
   "execution_count": null,
   "id": "e4acfbf0",
   "metadata": {},
   "outputs": [],
   "source": []
  },
  {
   "cell_type": "code",
   "execution_count": null,
   "id": "6eda196f",
   "metadata": {},
   "outputs": [],
   "source": []
  },
  {
   "cell_type": "code",
   "execution_count": null,
   "id": "d5f1d19d",
   "metadata": {},
   "outputs": [],
   "source": []
  },
  {
   "cell_type": "code",
   "execution_count": null,
   "id": "a33e4345",
   "metadata": {},
   "outputs": [],
   "source": []
  }
 ],
 "metadata": {
  "kernelspec": {
   "display_name": "Python 3",
   "language": "python",
   "name": "python3"
  },
  "language_info": {
   "codemirror_mode": {
    "name": "ipython",
    "version": 3
   },
   "file_extension": ".py",
   "mimetype": "text/x-python",
   "name": "python",
   "nbconvert_exporter": "python",
   "pygments_lexer": "ipython3",
   "version": "3.8.8"
  }
 },
 "nbformat": 4,
 "nbformat_minor": 5
}
